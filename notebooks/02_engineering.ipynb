{
 "cells": [
  {
   "cell_type": "markdown",
   "metadata": {},
   "source": [
    "# 2. Build a Recommendation System for Purchase Data\n",
    "\n",
    "The scope of this notebook is \n",
    "\n",
    "- Code the Scoring Function\n",
    "- Unit Test the Score\n",
    "- Build the Dash Applimcation\n",
    "\n"
   ]
  },
  {
   "cell_type": "markdown",
   "metadata": {},
   "source": [
    "## Settings"
   ]
  },
  {
   "cell_type": "code",
   "execution_count": 25,
   "metadata": {},
   "outputs": [],
   "source": [
    "#Model Tracking\n",
    "import mlflow\n",
    "from mlflow.tracking import MlflowClient\n",
    "\n",
    "from minio import Minio\n",
    "from minio.error import ResponseError\n",
    "\n",
    "from surprise import dump\n",
    "\n",
    "import json\n",
    "import pickle\n",
    "import os\n",
    "\n",
    "#Utils\n",
    "from pprint import pprint"
   ]
  },
  {
   "cell_type": "code",
   "execution_count": 21,
   "metadata": {},
   "outputs": [],
   "source": [
    "#Enviroment variables\n",
    "\n",
    "outmodels = '../models/model.pkl'"
   ]
  },
  {
   "cell_type": "markdown",
   "metadata": {},
   "source": [
    "## Download the model from the registry"
   ]
  },
  {
   "cell_type": "code",
   "execution_count": 22,
   "metadata": {},
   "outputs": [],
   "source": [
    "# client = MlflowClient()\n",
    "# for regmodel in client.list_registered_models():\n",
    "#     regmodel_info = dict(regmodel)\n",
    "\n",
    "# pprint(regmodel_info, indent=3)\n",
    "\n",
    "# # run_id = regmodel_info['latest_versions'][0].run_id\n",
    "# # path = \"/\".join(regmodel_info['latest_versions'][0].source.split('/')[2:])\n",
    "\n",
    "# run_id = 'f4d1b856bb0a4abf9c8e42e6f7eb688f'\n",
    "# path = '/artifacts/1/019488b1b2f44793a30de8b3eeae1b72/artifacts/model'\n",
    "\n",
    "# client.download_artifacts(run_id, path, dst_path=outmodels)"
   ]
  },
  {
   "cell_type": "code",
   "execution_count": 23,
   "metadata": {},
   "outputs": [
    {
     "name": "stdout",
     "output_type": "stream",
     "text": [
      "mlflow 2020-05-23 13:36:30.006000+00:00\n",
      "mlflow b'artifacts/1/019488b1b2f44793a30de8b3eeae1b72/artifacts/best-predicitionsi_xr5k95.csv' 2020-05-23 13:38:37.032000+00:00 d73c1423020b49ef6a278fee61418fcf 565 None\n",
      "mlflow b'artifacts/1/019488b1b2f44793a30de8b3eeae1b72/artifacts/model/modeloyx7rlbx.pkl' 2020-05-23 13:38:36.905000+00:00 c7970f420fa35db450890811b04f531e 4980195 None\n",
      "mlflow b'artifacts/1/099eb04c85d749ed8e94479a66dfa015/artifacts/best-predicitionsciwc88ba.csv' 2020-05-23 13:38:34.813000+00:00 d73c1423020b49ef6a278fee61418fcf 565 None\n",
      "mlflow b'artifacts/1/099eb04c85d749ed8e94479a66dfa015/artifacts/model/modelnlvif4t6.pkl' 2020-05-23 13:38:34.685000+00:00 dc2c528a570ea9460dba7465a412ffde 4980195 None\n",
      "mlflow b'artifacts/1/210019fabbc848f1976097d203aee3f8/artifacts/best-predicitions9_cl4akk.csv' 2020-05-23 13:38:38.116000+00:00 d73c1423020b49ef6a278fee61418fcf 565 None\n",
      "mlflow b'artifacts/1/210019fabbc848f1976097d203aee3f8/artifacts/model/modelnqs0y7ff.pkl' 2020-05-23 13:38:37.992000+00:00 d0f9338df1648cca3255733382091bb2 4980195 None\n",
      "mlflow b'artifacts/1/2a48537c06b043baa6493d313f4259d6/artifacts/best-predicitions4chjs6h_.csv' 2020-05-23 13:38:48.024000+00:00 d73c1423020b49ef6a278fee61418fcf 565 None\n",
      "mlflow b'artifacts/1/2a48537c06b043baa6493d313f4259d6/artifacts/model/modelpns25kk3.pkl' 2020-05-23 13:38:47.896000+00:00 b9c1471707d85c9ff5c53a469c47e105 4980195 None\n",
      "mlflow b'artifacts/1/3a8f51485b244ebb9b699f7d5b9f6530/artifacts/best-predicitionsk9mv98sa.csv' 2020-05-23 13:38:46.888000+00:00 d73c1423020b49ef6a278fee61418fcf 565 None\n",
      "mlflow b'artifacts/1/3a8f51485b244ebb9b699f7d5b9f6530/artifacts/model/model6xe169ao.pkl' 2020-05-23 13:38:46.760000+00:00 fdfae6ff78311e72e626c3f25453846c 4980195 None\n",
      "mlflow b'artifacts/1/44f2d7fcc6f7440cb82fe3a08aebd980/artifacts/best-predicitionsdsrvss6e.csv' 2020-05-23 13:38:44.720000+00:00 d73c1423020b49ef6a278fee61418fcf 565 None\n",
      "mlflow b'artifacts/1/44f2d7fcc6f7440cb82fe3a08aebd980/artifacts/model/modelpeaymmdl.pkl' 2020-05-23 13:38:44.592000+00:00 c147448073fdeb5c33cdfcd369f6593b 4980195 None\n",
      "mlflow b'artifacts/1/47620f88b6714296a926688eed83ce5a/artifacts/best-predicitions9f5ohmcx.csv' 2020-05-23 13:38:49.108000+00:00 d73c1423020b49ef6a278fee61418fcf 565 None\n",
      "mlflow b'artifacts/1/47620f88b6714296a926688eed83ce5a/artifacts/model/model8ftecvnz.pkl' 2020-05-23 13:38:48.980000+00:00 90a3a7520738f00b55b6407f58561e03 4980195 None\n",
      "mlflow b'artifacts/1/666399ad2ad44f319370e21a22248dc4/artifacts/best-predicitions0nty12oh.csv' 2020-05-23 13:38:41.312000+00:00 d73c1423020b49ef6a278fee61418fcf 565 None\n",
      "mlflow b'artifacts/1/666399ad2ad44f319370e21a22248dc4/artifacts/model/modeltczlo292.pkl' 2020-05-23 13:38:41.184000+00:00 d5b75feae91c3483ba45ca7d3ade79da 4980195 None\n",
      "mlflow b'artifacts/1/6f403de3cae94b47af55ba39ffc4aac4/artifacts/best-predicitionsjzj5z5np.csv' 2020-05-23 13:38:39.204000+00:00 d73c1423020b49ef6a278fee61418fcf 565 None\n",
      "mlflow b'artifacts/1/6f403de3cae94b47af55ba39ffc4aac4/artifacts/model/model1pt6f1xr.pkl' 2020-05-23 13:38:39.076000+00:00 a215eca1630095931d573342311d9219 4980195 None\n",
      "mlflow b'artifacts/1/a02ebb667bde492d93ca685e59849c9b/artifacts/best-predicitionspqis9bwk.csv' 2020-05-23 13:38:42.444000+00:00 d73c1423020b49ef6a278fee61418fcf 565 None\n",
      "mlflow b'artifacts/1/a02ebb667bde492d93ca685e59849c9b/artifacts/model/modelefnww224.pkl' 2020-05-23 13:38:42.312000+00:00 5e9360513c8c0d2220f89bb621c69b3e 4980195 None\n",
      "mlflow b'artifacts/1/a840f7e31ee14c9999434479c912de41/artifacts/best-predicitionsdb0o3isa.csv' 2020-05-23 13:38:32.725000+00:00 d73c1423020b49ef6a278fee61418fcf 565 None\n",
      "mlflow b'artifacts/1/a840f7e31ee14c9999434479c912de41/artifacts/model/model4wgc45g7.pkl' 2020-05-23 13:38:32.601000+00:00 3043570fa952201b90b045f49d1e0797 4980195 None\n",
      "mlflow b'artifacts/1/af201a4d6a494a24923416177f099ff2/artifacts/best-predicitionsncfq9an1.csv' 2020-05-23 13:38:45.736000+00:00 d73c1423020b49ef6a278fee61418fcf 565 None\n",
      "mlflow b'artifacts/1/af201a4d6a494a24923416177f099ff2/artifacts/model/modell3s7u32p.pkl' 2020-05-23 13:38:45.608000+00:00 0a4a6e20e8469316b13291f4def5fcc6 4980195 None\n",
      "mlflow b'artifacts/1/c58ba727ce1c44a0b480a94e4ac2911b/artifacts/best-predicitionsufuqlt42.csv' 2020-05-23 13:38:43.576000+00:00 d73c1423020b49ef6a278fee61418fcf 565 None\n",
      "mlflow b'artifacts/1/c58ba727ce1c44a0b480a94e4ac2911b/artifacts/model/modelwdkrvf_0.pkl' 2020-05-23 13:38:43.448000+00:00 c4bee9991fd77cf443164009aa12be4d 4980195 None\n",
      "mlflow b'artifacts/1/dca3638a1cb04ad28a5b7cf35619c7b0/artifacts/best-predicitions_t_gqxww.csv' 2020-05-23 13:38:35.953000+00:00 d73c1423020b49ef6a278fee61418fcf 565 None\n",
      "mlflow b'artifacts/1/dca3638a1cb04ad28a5b7cf35619c7b0/artifacts/model/modelbjbddvys.pkl' 2020-05-23 13:38:35.821000+00:00 7eb97867a754b12aa5dab1d1ce86755e 4980195 None\n",
      "mlflow b'artifacts/1/dfd31ae3913f455cafcb533796006b00/artifacts/best-predicitionsvfwvjgk_.csv' 2020-05-23 13:38:33.669000+00:00 d73c1423020b49ef6a278fee61418fcf 565 None\n",
      "mlflow b'artifacts/1/dfd31ae3913f455cafcb533796006b00/artifacts/model/modelcqmjtvyb.pkl' 2020-05-23 13:38:33.541000+00:00 0a8bd18c087e2ef346d3c8622c10c896 4980195 None\n",
      "mlflow b'artifacts/1/eba908cc7a01455481a4a1653a0bbfa6/artifacts/best-predicitionscegk9z_a.csv' 2020-05-23 13:38:40.212000+00:00 d73c1423020b49ef6a278fee61418fcf 565 None\n",
      "mlflow b'artifacts/1/eba908cc7a01455481a4a1653a0bbfa6/artifacts/model/model23qeix_4.pkl' 2020-05-23 13:38:40.080000+00:00 31128ddc53bd71ded09511ea478d2500 4980195 None\n"
     ]
    }
   ],
   "source": [
    "minioClient = Minio(os.environ['MLFLOW_S3_ENDPOINT_URL'].split('//')[1],\n",
    "                  access_key=os.environ['AWS_ACCESS_KEY_ID'],\n",
    "                  secret_key=os.environ['AWS_SECRET_ACCESS_KEY'],\n",
    "                  secure=False)\n",
    "\n",
    "# Check buckets \n",
    "buckets = minioClient.list_buckets()\n",
    "for bucket in buckets:\n",
    "    print(bucket.name, bucket.creation_date)\n",
    "    \n",
    "#Check for content\n",
    "objects = minioClient.list_objects_v2(\n",
    "        bucket_name = bucket.name, \n",
    "        recursive=True)\n",
    "\n",
    "for obj in objects:\n",
    "    print(obj.bucket_name, obj.object_name.encode('utf-8'), obj.last_modified,\n",
    "          obj.etag, obj.size, obj.content_type)\n",
    "    \n",
    "#Download Model\n",
    "try:\n",
    "    minioClient.fget_object(bucket_name=obj.bucket_name, object_name=b'artifacts/1/019488b1b2f44793a30de8b3eeae1b72/artifacts/model/modeloyx7rlbx.pkl', file_path=outmodels)\n",
    "except ResponseError as err:\n",
    "    print(err)"
   ]
  },
  {
   "cell_type": "markdown",
   "metadata": {},
   "source": [
    "### Load and predict"
   ]
  },
  {
   "cell_type": "code",
   "execution_count": 26,
   "metadata": {},
   "outputs": [],
   "source": [
    "predictions, algo = dump.load(outmodels)"
   ]
  },
  {
   "cell_type": "code",
   "execution_count": 28,
   "metadata": {},
   "outputs": [
    {
     "data": {
      "text/plain": [
       "<surprise.prediction_algorithms.baseline_only.BaselineOnly at 0x7f939eec13d0>"
      ]
     },
     "execution_count": 28,
     "metadata": {},
     "output_type": "execute_result"
    }
   ],
   "source": [
    "algo"
   ]
  },
  {
   "cell_type": "markdown",
   "metadata": {},
   "source": [
    "### Single value"
   ]
  },
  {
   "cell_type": "code",
   "execution_count": null,
   "metadata": {},
   "outputs": [],
   "source": [
    "test_sample = data_prep_4.head()\n",
    "test_sample.head()"
   ]
  },
  {
   "cell_type": "code",
   "execution_count": null,
   "metadata": {},
   "outputs": [],
   "source": [
    "uid = str(1007)  # raw user id (as in the ratings file). They are **strings**!\n",
    "iid = str(0)  # raw item id (as in the ratings file). They are **strings**!\n",
    "\n",
    "# get a prediction for specific users and items.\n",
    "pred = algo_best.predict(uid, iid, r_ui=13, verbose=True)"
   ]
  },
  {
   "cell_type": "markdown",
   "metadata": {},
   "source": [
    "### Score the entire dataset"
   ]
  },
  {
   "cell_type": "code",
   "execution_count": null,
   "metadata": {},
   "outputs": [],
   "source": [
    "data_prep_5['predictions'] = data_prep_5.apply(lambda row:algo_best.predict(row['userID'], \n",
    "                     row['itemID'], row['rating']), axis = 1)\n",
    "data_prep_5.head()\n",
    "# predictions=list(data_prep_5['predictions'])"
   ]
  },
  {
   "cell_type": "markdown",
   "metadata": {},
   "source": [
    "### Top 10 Recommended Items\n"
   ]
  },
  {
   "cell_type": "code",
   "execution_count": null,
   "metadata": {},
   "outputs": [],
   "source": [
    "def get_top_n(predictions, n=10):\n",
    "    \n",
    "    '''Return the top-N recommendation for each user from a set of predictions.\n",
    "    Args:\n",
    "        predictions(list of Prediction objects): The list of predictions, as\n",
    "            returned by the test method of an algorithm.\n",
    "        n(int): The number of recommendation to output for each user. Default\n",
    "            is 10.\n",
    "    Returns:\n",
    "    A dict where keys are user (raw) ids and values are lists of tuples:\n",
    "        [(raw item id, rating estimation), ...] of size n.\n",
    "    '''\n",
    "\n",
    "    # First map the predictions to each user.\n",
    "    top_n = defaultdict(list)\n",
    "    for uid, iid, true_r, est, _ in predictions:\n",
    "        top_n[uid].append((iid, est))\n",
    "\n",
    "#     # Then sort the predictions for each user and retrieve the k highest ones.\n",
    "    for uid, user_ratings in top_n.items():\n",
    "        user_ratings.sort(key=lambda x: x[1], reverse=True)\n",
    "        top_n[uid] = user_ratings[:n]\n",
    "\n",
    "    return top_n\n",
    "\n",
    "def get_top_n_ui(top, ui):\n",
    "    try:\n",
    "        return {k:v for k,v in top.items() if ui==k}\n",
    "    except ValueError: # user was not part of the trainset\n",
    "        return 0"
   ]
  },
  {
   "cell_type": "code",
   "execution_count": null,
   "metadata": {},
   "outputs": [],
   "source": [
    "print(get_top_n_ui(get_top_n(predictions, n=10), '20400'))"
   ]
  }
 ],
 "metadata": {
  "kernelspec": {
   "display_name": "Python 3",
   "language": "python",
   "name": "python3"
  },
  "language_info": {
   "codemirror_mode": {
    "name": "ipython",
    "version": 3
   },
   "file_extension": ".py",
   "mimetype": "text/x-python",
   "name": "python",
   "nbconvert_exporter": "python",
   "pygments_lexer": "ipython3",
   "version": "3.7.6"
  }
 },
 "nbformat": 4,
 "nbformat_minor": 4
}
