{
 "cells": [
  {
   "cell_type": "markdown",
   "metadata": {},
   "source": [
    "# Build a Recommendation System for Purchase Data"
   ]
  },
  {
   "cell_type": "markdown",
   "metadata": {},
   "source": [
    "## Settings\n",
    "\n",
    "Prepare the enviroments with libraries and utility functions"
   ]
  },
  {
   "cell_type": "code",
   "execution_count": 1,
   "metadata": {},
   "outputs": [],
   "source": [
    "#Libraries\n",
    "\n",
    "#Data\n",
    "import sqlalchemy as sql\n",
    "\n",
    "#Data Science\n",
    "import numpy as np\n",
    "import pandas as pd\n",
    "import matplotlib.pyplot as plt\n",
    "import seaborn as sns\n",
    "from surprise import Reader\n",
    "from surprise import Dataset\n",
    "from surprise.model_selection import cross_validate\n",
    "from surprise import NormalPredictor, BaselineOnly\n",
    "from surprise import KNNBasic,KNNWithMeans,KNNWithZScore,KNNBaseline\n",
    "from surprise import SVD,SVDpp,NMF\n",
    "from surprise import SlopeOne, CoClustering\n",
    "from surprise.model_selection import train_test_split\n",
    "from surprise.model_selection import GridSearchCV\n",
    "from surprise.accuracy import rmse, mae\n",
    "from surprise import dump\n",
    "\n",
    "#Model Tracking\n",
    "import mlflow\n",
    "from mlflow.tracking import MlflowClient\n",
    "\n",
    "#Utils\n",
    "import os\n",
    "import configparser\n",
    "from collections import defaultdict\n",
    "import tempfile\n",
    "import time\n",
    "import json\n",
    "pd.set_option('display.max_rows', 500)\n",
    "pd.set_option('display.max_columns', 500)\n",
    "pd.set_option('display.width', 1000)"
   ]
  },
  {
   "cell_type": "code",
   "execution_count": 2,
   "metadata": {},
   "outputs": [],
   "source": [
    "# Enviroment Variables\n",
    "dbconnPath = './dbconn.properties'\n",
    "interdata = '../data/interim/'\n",
    "outdata = '../data/processed/'\n",
    "outmodels = '../models'\n",
    "\n",
    "# Set dbconnection variables\n",
    "config = configparser.RawConfigParser()\n",
    "config.read(dbconnPath)\n",
    "params = config\n",
    "db_host=params.get('CONN', 'host')\n",
    "db_port=params.get('CONN', 'port')\n",
    "db_user=params.get('CONN', 'user')\n",
    "db_pwd=params.get('CONN', 'password')\n",
    "db_name=params.get('CONN', 'database')\n",
    "\n",
    "# Set connection string\n",
    "connection_str = f'mysql+pymysql://{db_user}:{db_pwd}@{db_host}:{db_port}/{db_name}'"
   ]
  },
  {
   "cell_type": "markdown",
   "metadata": {},
   "source": [
    "## Data Preparation\n",
    "\n",
    "We have to:\n",
    "\n",
    "1) Split each list of items in the products column into rows\n",
    "\n",
    "2) Count the number of products bought by a user"
   ]
  },
  {
   "cell_type": "code",
   "execution_count": 3,
   "metadata": {},
   "outputs": [],
   "source": [
    "# connect to database\n",
    "engine = sql.create_engine(connection_str)\n",
    "connection = engine.connect()"
   ]
  },
  {
   "cell_type": "code",
   "execution_count": 4,
   "metadata": {},
   "outputs": [
    {
     "name": "stdout",
     "output_type": "stream",
     "text": [
      "database contains CUSTOMERID, TRANSACTIONS tables\n",
      "database contains CUSTOMERID table\n"
     ]
    }
   ],
   "source": [
    "print(f'{db_name} contains {engine.table_names()[0]}, {engine.table_names()[1]} tables')\n",
    "print(f'{db_name} contains {engine.table_names()[0]} table')"
   ]
  },
  {
   "cell_type": "code",
   "execution_count": 5,
   "metadata": {},
   "outputs": [],
   "source": [
    "# Convert tables in dataframes (Don't do that if you have a large dataset. Use just samples)\n",
    "df_cus = pd.read_sql(\"select * from CUSTOMERID\", connection)\n",
    "df_trx = pd.read_sql(\"select * from TRANSACTIONS\", connection)\n",
    "connection.close()"
   ]
  },
  {
   "cell_type": "code",
   "execution_count": 6,
   "metadata": {},
   "outputs": [
    {
     "name": "stdout",
     "output_type": "stream",
     "text": [
      "(1000, 2)\n"
     ]
    },
    {
     "data": {
      "text/html": [
       "<div>\n",
       "<style scoped>\n",
       "    .dataframe tbody tr th:only-of-type {\n",
       "        vertical-align: middle;\n",
       "    }\n",
       "\n",
       "    .dataframe tbody tr th {\n",
       "        vertical-align: top;\n",
       "    }\n",
       "\n",
       "    .dataframe thead th {\n",
       "        text-align: right;\n",
       "    }\n",
       "</style>\n",
       "<table border=\"1\" class=\"dataframe\">\n",
       "  <thead>\n",
       "    <tr style=\"text-align: right;\">\n",
       "      <th></th>\n",
       "      <th>id</th>\n",
       "      <th>customerId</th>\n",
       "    </tr>\n",
       "  </thead>\n",
       "  <tbody>\n",
       "    <tr>\n",
       "      <th>0</th>\n",
       "      <td>1</td>\n",
       "      <td>1553</td>\n",
       "    </tr>\n",
       "    <tr>\n",
       "      <th>1</th>\n",
       "      <td>2</td>\n",
       "      <td>20400</td>\n",
       "    </tr>\n",
       "    <tr>\n",
       "      <th>2</th>\n",
       "      <td>3</td>\n",
       "      <td>19750</td>\n",
       "    </tr>\n",
       "    <tr>\n",
       "      <th>3</th>\n",
       "      <td>4</td>\n",
       "      <td>6334</td>\n",
       "    </tr>\n",
       "    <tr>\n",
       "      <th>4</th>\n",
       "      <td>5</td>\n",
       "      <td>27773</td>\n",
       "    </tr>\n",
       "  </tbody>\n",
       "</table>\n",
       "</div>"
      ],
      "text/plain": [
       "   id customerId\n",
       "0   1       1553\n",
       "1   2      20400\n",
       "2   3      19750\n",
       "3   4       6334\n",
       "4   5      27773"
      ]
     },
     "execution_count": 6,
     "metadata": {},
     "output_type": "execute_result"
    }
   ],
   "source": [
    "print(df_cus.shape)\n",
    "df_cus.head()"
   ]
  },
  {
   "cell_type": "code",
   "execution_count": 7,
   "metadata": {},
   "outputs": [
    {
     "name": "stdout",
     "output_type": "stream",
     "text": [
      "(62483, 3)\n"
     ]
    },
    {
     "data": {
      "text/html": [
       "<div>\n",
       "<style scoped>\n",
       "    .dataframe tbody tr th:only-of-type {\n",
       "        vertical-align: middle;\n",
       "    }\n",
       "\n",
       "    .dataframe tbody tr th {\n",
       "        vertical-align: top;\n",
       "    }\n",
       "\n",
       "    .dataframe thead th {\n",
       "        text-align: right;\n",
       "    }\n",
       "</style>\n",
       "<table border=\"1\" class=\"dataframe\">\n",
       "  <thead>\n",
       "    <tr style=\"text-align: right;\">\n",
       "      <th></th>\n",
       "      <th>id</th>\n",
       "      <th>customerId</th>\n",
       "      <th>products</th>\n",
       "    </tr>\n",
       "  </thead>\n",
       "  <tbody>\n",
       "    <tr>\n",
       "      <th>0</th>\n",
       "      <td>1</td>\n",
       "      <td>0</td>\n",
       "      <td>20</td>\n",
       "    </tr>\n",
       "    <tr>\n",
       "      <th>1</th>\n",
       "      <td>2</td>\n",
       "      <td>1</td>\n",
       "      <td>2|2|23|68|68|111|29|86|107|152</td>\n",
       "    </tr>\n",
       "    <tr>\n",
       "      <th>2</th>\n",
       "      <td>3</td>\n",
       "      <td>2</td>\n",
       "      <td>111|107|29|11|11|11|33|23</td>\n",
       "    </tr>\n",
       "    <tr>\n",
       "      <th>3</th>\n",
       "      <td>4</td>\n",
       "      <td>3</td>\n",
       "      <td>164|227</td>\n",
       "    </tr>\n",
       "    <tr>\n",
       "      <th>4</th>\n",
       "      <td>5</td>\n",
       "      <td>5</td>\n",
       "      <td>2|2</td>\n",
       "    </tr>\n",
       "  </tbody>\n",
       "</table>\n",
       "</div>"
      ],
      "text/plain": [
       "   id customerId                        products\n",
       "0   1          0                              20\n",
       "1   2          1  2|2|23|68|68|111|29|86|107|152\n",
       "2   3          2       111|107|29|11|11|11|33|23\n",
       "3   4          3                         164|227\n",
       "4   5          5                             2|2"
      ]
     },
     "execution_count": 7,
     "metadata": {},
     "output_type": "execute_result"
    }
   ],
   "source": [
    "print(df_trx.shape)\n",
    "df_trx.head()"
   ]
  },
  {
   "cell_type": "code",
   "execution_count": 8,
   "metadata": {},
   "outputs": [],
   "source": [
    "data_prep_1=pd.DataFrame(df_trx.products.str.split('|').tolist(), index=df_trx.customerId)\\\n",
    ".stack()\\\n",
    ".reset_index()\\\n",
    ".groupby(['customerId', 0])\\\n",
    ".agg({0: 'count'})\\\n",
    ".rename(columns={0: 'purchase_count'})\\\n",
    ".reset_index()\\\n",
    ".rename(columns={0: 'productId'})\n",
    "\n",
    "# Store \n",
    "data_prep_1.to_csv(\"\".join([interdata, 'syntetic_purchase_count.csv']))"
   ]
  },
  {
   "cell_type": "code",
   "execution_count": 9,
   "metadata": {},
   "outputs": [
    {
     "name": "stdout",
     "output_type": "stream",
     "text": [
      "  customerId productId  purchase_count\n",
      "0          0         1               2\n",
      "1          0        13               1\n",
      "2          0       136               2\n",
      "3          0       157               1\n",
      "4          0        19               3\n",
      "****************************************\n",
      "<class 'pandas.core.frame.DataFrame'>\n",
      "RangeIndex: 133585 entries, 0 to 133584\n",
      "Data columns (total 3 columns):\n",
      " #   Column          Non-Null Count   Dtype \n",
      "---  ------          --------------   ----- \n",
      " 0   customerId      133585 non-null  object\n",
      " 1   productId       133585 non-null  object\n",
      " 2   purchase_count  133585 non-null  int64 \n",
      "dtypes: int64(1), object(2)\n",
      "memory usage: 3.1+ MB\n",
      "None\n"
     ]
    }
   ],
   "source": [
    "print(data_prep_1.head())\n",
    "print('*'*40)\n",
    "print(data_prep_1.info())"
   ]
  },
  {
   "cell_type": "code",
   "execution_count": 10,
   "metadata": {},
   "outputs": [],
   "source": [
    "#Let's normalize data in a way to have a rank\n",
    "data_prep_2 = pd.pivot_table(data=data_prep_1, index='customerId', columns='productId', values='purchase_count', aggfunc='sum')\n",
    "data_prep_3 = (data_prep_2 - data_prep_2.min())/(data_prep_2.max() - data_prep_2.min())\n",
    "data_prep_4 = data_prep_3.reset_index().melt(id_vars=['customerId'], value_name='prod_ratings').dropna()\n",
    "data_prep_4.index = np.arange(0, len(data_prep_4))\n",
    "data_prep_4['prod_ratings'] = data_prep_4['prod_ratings'].apply(lambda x: int((round(x, 2))*10))\n",
    "\n",
    "#Store\n",
    "data_prep_4.to_csv(\"\".join([interdata, 'syntetic_prod_ratings.csv']))"
   ]
  },
  {
   "cell_type": "code",
   "execution_count": 11,
   "metadata": {},
   "outputs": [
    {
     "name": "stdout",
     "output_type": "stream",
     "text": [
      "       customerId productId  prod_ratings\n",
      "1307            0         1             1\n",
      "54157           0        20             0\n",
      "49722           0       198             0\n",
      "46478           0        19             1\n",
      "116292          0        69             2\n"
     ]
    }
   ],
   "source": [
    "print(data_prep_4.sort_values(by=['customerId']).head())"
   ]
  },
  {
   "cell_type": "markdown",
   "metadata": {},
   "source": [
    "Then, we get **Triplet Representation** with each column representing user, item and the given rating respectively.\n",
    "Notice the rating goes from 0–100 (with 100 being the most number of purchase for an item and 0 being 0 purchase count for that item).\n",
    "It's a kind of preference for each user\n"
   ]
  },
  {
   "cell_type": "markdown",
   "metadata": {
    "toc-hr-collapsed": true,
    "toc-nb-collapsed": true
   },
   "source": [
    "## Data Exploration\n",
    "\n",
    "Explore syntetic ratings by UserID and ProductID"
   ]
  },
  {
   "cell_type": "markdown",
   "metadata": {},
   "source": [
    "### Rating Distributions"
   ]
  },
  {
   "cell_type": "code",
   "execution_count": 12,
   "metadata": {},
   "outputs": [
    {
     "data": {
      "image/png": "[encoded data removed]",
      "text/plain": [
       "<Figure size 504x216 with 1 Axes>"
      ]
     },
     "metadata": {
      "needs_background": "light"
     },
     "output_type": "display_data"
    }
   ],
   "source": [
    "df_plt1=data_prep_4['prod_ratings']\n",
    "fig, ax = plt.subplots(figsize=(7, 3))\n",
    "plt.hist(df_plt1)\n",
    "ax.set_xlabel('Syntetic Product Ratings')\n",
    "ax.set_ylabel('Frequency')\n",
    "ax.set_title('Rating Distribution of {} items'.format(data_prep_4.shape[0]))\n",
    "plt.show()"
   ]
  },
  {
   "cell_type": "markdown",
   "metadata": {},
   "source": [
    "### Rating Distribution by ProductId"
   ]
  },
  {
   "cell_type": "code",
   "execution_count": 13,
   "metadata": {},
   "outputs": [
    {
     "data": {
      "image/png": "[encoded data removed]",
      "text/plain": [
       "<Figure size 504x216 with 1 Axes>"
      ]
     },
     "metadata": {
      "needs_background": "light"
     },
     "output_type": "display_data"
    }
   ],
   "source": [
    "df_plt_2=data_prep_4.groupby('productId')['prod_ratings'].count().reset_index()[0:50]\n",
    "df_plt_2\n",
    "fig, ax = plt.subplots(figsize=(7, 3))\n",
    "plt.bar(df_plt_2.productId, df_plt_2.prod_ratings, )\n",
    "ax.set_xlabel('Number of Ratings per product')\n",
    "ax.set_ylabel('Count')\n",
    "ax.set_title('Rating Distribution by ProductId')\n",
    "plt.show()"
   ]
  },
  {
   "cell_type": "code",
   "execution_count": 14,
   "metadata": {},
   "outputs": [
    {
     "data": {
      "text/html": [
       "<div>\n",
       "<style scoped>\n",
       "    .dataframe tbody tr th:only-of-type {\n",
       "        vertical-align: middle;\n",
       "    }\n",
       "\n",
       "    .dataframe tbody tr th {\n",
       "        vertical-align: top;\n",
       "    }\n",
       "\n",
       "    .dataframe thead th {\n",
       "        text-align: right;\n",
       "    }\n",
       "</style>\n",
       "<table border=\"1\" class=\"dataframe\">\n",
       "  <thead>\n",
       "    <tr style=\"text-align: right;\">\n",
       "      <th></th>\n",
       "      <th>productId</th>\n",
       "      <th>prod_ratings</th>\n",
       "    </tr>\n",
       "  </thead>\n",
       "  <tbody>\n",
       "    <tr>\n",
       "      <th>1</th>\n",
       "      <td>1</td>\n",
       "      <td>4639</td>\n",
       "    </tr>\n",
       "    <tr>\n",
       "      <th>0</th>\n",
       "      <td>0</td>\n",
       "      <td>1307</td>\n",
       "    </tr>\n",
       "    <tr>\n",
       "      <th>35</th>\n",
       "      <td>13</td>\n",
       "      <td>1306</td>\n",
       "    </tr>\n",
       "    <tr>\n",
       "      <th>46</th>\n",
       "      <td>14</td>\n",
       "      <td>1241</td>\n",
       "    </tr>\n",
       "    <tr>\n",
       "      <th>13</th>\n",
       "      <td>11</td>\n",
       "      <td>1033</td>\n",
       "    </tr>\n",
       "    <tr>\n",
       "      <th>24</th>\n",
       "      <td>12</td>\n",
       "      <td>931</td>\n",
       "    </tr>\n",
       "    <tr>\n",
       "      <th>4</th>\n",
       "      <td>101</td>\n",
       "      <td>608</td>\n",
       "    </tr>\n",
       "    <tr>\n",
       "      <th>11</th>\n",
       "      <td>108</td>\n",
       "      <td>558</td>\n",
       "    </tr>\n",
       "    <tr>\n",
       "      <th>39</th>\n",
       "      <td>133</td>\n",
       "      <td>498</td>\n",
       "    </tr>\n",
       "    <tr>\n",
       "      <th>8</th>\n",
       "      <td>105</td>\n",
       "      <td>497</td>\n",
       "    </tr>\n",
       "  </tbody>\n",
       "</table>\n",
       "</div>"
      ],
      "text/plain": [
       "   productId  prod_ratings\n",
       "1          1          4639\n",
       "0          0          1307\n",
       "35        13          1306\n",
       "46        14          1241\n",
       "13        11          1033\n",
       "24        12           931\n",
       "4        101           608\n",
       "11       108           558\n",
       "39       133           498\n",
       "8        105           497"
      ]
     },
     "execution_count": 14,
     "metadata": {},
     "output_type": "execute_result"
    }
   ],
   "source": [
    "df_plt_2.sort_values(by='prod_ratings', ascending=False)[0:10]"
   ]
  },
  {
   "cell_type": "code",
   "execution_count": 20,
   "metadata": {},
   "outputs": [
    {
     "data": {
      "image/png": "[encoded data removed]",
      "text/plain": [
       "<Figure size 504x216 with 1 Axes>"
      ]
     },
     "metadata": {
      "needs_background": "light"
     },
     "output_type": "display_data"
    }
   ],
   "source": [
    "df_plt_2=data_prep_4.groupby('productId')['prod_ratings'].count()\n",
    "df_plt_2\n",
    "fig, ax = plt.subplots(figsize=(7, 3))\n",
    "plt.hist(df_plt_2)\n",
    "ax.set_xlim(0, 3000)\n",
    "ax.set_xlabel('Number of Ratings')\n",
    "ax.set_ylabel('Count')\n",
    "ax.set_title('Rating Distribution by ProductId')\n",
    "plt.show()"
   ]
  },
  {
   "cell_type": "markdown",
   "metadata": {},
   "source": [
    "### Ratings Distribution By User"
   ]
  },
  {
   "cell_type": "code",
   "execution_count": 16,
   "metadata": {},
   "outputs": [
    {
     "data": {
      "image/png": "[encoded data removed]",
      "text/plain": [
       "<Figure size 504x216 with 1 Axes>"
      ]
     },
     "metadata": {
      "needs_background": "light"
     },
     "output_type": "display_data"
    }
   ],
   "source": [
    "df_plt_3=data_prep_4.groupby('customerId')['prod_ratings'].count().reset_index()[0:50]\n",
    "fig, ax = plt.subplots(figsize=(7, 3))\n",
    "plt.bar(df_plt_3.customerId, df_plt_3.prod_ratings)\n",
    "ax.set_xlabel('Number of Ratings per Customer')\n",
    "ax.set_ylabel('Count')\n",
    "ax.set_title('Rating Distribution by customerId')\n",
    "plt.show()"
   ]
  },
  {
   "cell_type": "code",
   "execution_count": 17,
   "metadata": {},
   "outputs": [
    {
     "data": {
      "text/html": [
       "<div>\n",
       "<style scoped>\n",
       "    .dataframe tbody tr th:only-of-type {\n",
       "        vertical-align: middle;\n",
       "    }\n",
       "\n",
       "    .dataframe tbody tr th {\n",
       "        vertical-align: top;\n",
       "    }\n",
       "\n",
       "    .dataframe thead th {\n",
       "        text-align: right;\n",
       "    }\n",
       "</style>\n",
       "<table border=\"1\" class=\"dataframe\">\n",
       "  <thead>\n",
       "    <tr style=\"text-align: right;\">\n",
       "      <th></th>\n",
       "      <th>customerId</th>\n",
       "      <th>prod_ratings</th>\n",
       "    </tr>\n",
       "  </thead>\n",
       "  <tbody>\n",
       "    <tr>\n",
       "      <th>2</th>\n",
       "      <td>10</td>\n",
       "      <td>26</td>\n",
       "    </tr>\n",
       "    <tr>\n",
       "      <th>13</th>\n",
       "      <td>10008</td>\n",
       "      <td>23</td>\n",
       "    </tr>\n",
       "    <tr>\n",
       "      <th>1</th>\n",
       "      <td>1</td>\n",
       "      <td>21</td>\n",
       "    </tr>\n",
       "    <tr>\n",
       "      <th>0</th>\n",
       "      <td>0</td>\n",
       "      <td>15</td>\n",
       "    </tr>\n",
       "    <tr>\n",
       "      <th>14</th>\n",
       "      <td>10009</td>\n",
       "      <td>15</td>\n",
       "    </tr>\n",
       "    <tr>\n",
       "      <th>10</th>\n",
       "      <td>10005</td>\n",
       "      <td>14</td>\n",
       "    </tr>\n",
       "    <tr>\n",
       "      <th>35</th>\n",
       "      <td>1003</td>\n",
       "      <td>11</td>\n",
       "    </tr>\n",
       "    <tr>\n",
       "      <th>39</th>\n",
       "      <td>10034</td>\n",
       "      <td>10</td>\n",
       "    </tr>\n",
       "    <tr>\n",
       "      <th>15</th>\n",
       "      <td>1001</td>\n",
       "      <td>10</td>\n",
       "    </tr>\n",
       "    <tr>\n",
       "      <th>25</th>\n",
       "      <td>10020</td>\n",
       "      <td>10</td>\n",
       "    </tr>\n",
       "  </tbody>\n",
       "</table>\n",
       "</div>"
      ],
      "text/plain": [
       "   customerId  prod_ratings\n",
       "2          10            26\n",
       "13      10008            23\n",
       "1           1            21\n",
       "0           0            15\n",
       "14      10009            15\n",
       "10      10005            14\n",
       "35       1003            11\n",
       "39      10034            10\n",
       "15       1001            10\n",
       "25      10020            10"
      ]
     },
     "execution_count": 17,
     "metadata": {},
     "output_type": "execute_result"
    }
   ],
   "source": [
    "df_plt_3.sort_values(by='prod_ratings', ascending=False)[0:10]"
   ]
  },
  {
   "cell_type": "code",
   "execution_count": 21,
   "metadata": {},
   "outputs": [
    {
     "data": {
      "image/png": "[encoded data removed]",
      "text/plain": [
       "<Figure size 504x216 with 1 Axes>"
      ]
     },
     "metadata": {
      "needs_background": "light"
     },
     "output_type": "display_data"
    }
   ],
   "source": [
    "df_plt_3=data_prep_4.groupby('customerId')['prod_ratings'].count()\n",
    "fig, ax = plt.subplots(figsize=(7, 3))\n",
    "plt.hist(df_plt_3)\n",
    "ax.set_xlim(0, 50)\n",
    "ax.set_xlabel('Number of Ratings per Customer')\n",
    "ax.set_ylabel('Frequency')\n",
    "ax.set_title('Rating Distribution by customerId')\n",
    "plt.show()"
   ]
  },
  {
   "cell_type": "markdown",
   "metadata": {},
   "source": [
    "## Model Training and Evaluation\n",
    "\n",
    "To do that, I use **Surprise** which is an easy-to-use Python scikit for recommender systems.\n",
    "\n",
    "I follow the Getting Started (https://surprise.readthedocs.io/en/stable/getting_started.html#getting-started)\n",
    "\n",
    "Reference: https://surprise.readthedocs.io/en/stable/prediction_algorithms_package.html"
   ]
  },
  {
   "cell_type": "markdown",
   "metadata": {},
   "source": [
    "### Settings and Utility Functions (mlflow_tracker, get_Iu, get_Ui)"
   ]
  },
  {
   "cell_type": "code",
   "execution_count": 12,
   "metadata": {},
   "outputs": [
    {
     "ename": "BucketAlreadyOwnedByYou",
     "evalue": "BucketAlreadyOwnedByYou: message: Your previous request to create the named bucket succeeded and you already own it.",
     "output_type": "error",
     "traceback": [
      "\u001b[0;31m---------------------------------------------------------------------------\u001b[0m",
      "\u001b[0;31mBucketAlreadyOwnedByYou\u001b[0m                   Traceback (most recent call last)",
      "\u001b[0;32m~/work/ModelOps/notebooks/00_set_bucket.ipynb\u001b[0m in \u001b[0;36m<module>\u001b[0;34m\u001b[0m\n\u001b[1;32m      1\u001b[0m \u001b[0;32mtry\u001b[0m\u001b[0;34m:\u001b[0m\u001b[0;34m\u001b[0m\u001b[0;34m\u001b[0m\u001b[0m\n\u001b[0;32m----> 2\u001b[0;31m     \u001b[0mminioClient\u001b[0m\u001b[0;34m.\u001b[0m\u001b[0mmake_bucket\u001b[0m\u001b[0;34m(\u001b[0m\u001b[0;34m'mlflow'\u001b[0m\u001b[0;34m)\u001b[0m\u001b[0;34m\u001b[0m\u001b[0;34m\u001b[0m\u001b[0m\n\u001b[0m\u001b[1;32m      3\u001b[0m \u001b[0;32mexcept\u001b[0m \u001b[0mResponseError\u001b[0m \u001b[0;32mas\u001b[0m \u001b[0merr\u001b[0m\u001b[0;34m:\u001b[0m\u001b[0;34m\u001b[0m\u001b[0;34m\u001b[0m\u001b[0m\n\u001b[1;32m      4\u001b[0m     \u001b[0mprint\u001b[0m\u001b[0;34m(\u001b[0m\u001b[0merr\u001b[0m\u001b[0;34m)\u001b[0m\u001b[0;34m\u001b[0m\u001b[0;34m\u001b[0m\u001b[0m\n",
      "\u001b[0;32m/opt/conda/lib/python3.7/site-packages/minio/api.py\u001b[0m in \u001b[0;36mmake_bucket\u001b[0;34m(self, bucket_name, location)\u001b[0m\n\u001b[1;32m    372\u001b[0m \u001b[0;34m\u001b[0m\u001b[0m\n\u001b[1;32m    373\u001b[0m         \u001b[0;32mif\u001b[0m \u001b[0mresponse\u001b[0m\u001b[0;34m.\u001b[0m\u001b[0mstatus\u001b[0m \u001b[0;34m!=\u001b[0m \u001b[0;36m200\u001b[0m\u001b[0;34m:\u001b[0m\u001b[0;34m\u001b[0m\u001b[0;34m\u001b[0m\u001b[0m\n\u001b[0;32m--> 374\u001b[0;31m             \u001b[0;32mraise\u001b[0m \u001b[0mResponseError\u001b[0m\u001b[0;34m(\u001b[0m\u001b[0mresponse\u001b[0m\u001b[0;34m,\u001b[0m \u001b[0mmethod\u001b[0m\u001b[0;34m,\u001b[0m \u001b[0mbucket_name\u001b[0m\u001b[0;34m)\u001b[0m\u001b[0;34m.\u001b[0m\u001b[0mget_exception\u001b[0m\u001b[0;34m(\u001b[0m\u001b[0;34m)\u001b[0m\u001b[0;34m\u001b[0m\u001b[0;34m\u001b[0m\u001b[0m\n\u001b[0m\u001b[1;32m    375\u001b[0m \u001b[0;34m\u001b[0m\u001b[0m\n\u001b[1;32m    376\u001b[0m         \u001b[0mself\u001b[0m\u001b[0;34m.\u001b[0m\u001b[0m_set_bucket_region\u001b[0m\u001b[0;34m(\u001b[0m\u001b[0mbucket_name\u001b[0m\u001b[0;34m,\u001b[0m \u001b[0mregion\u001b[0m\u001b[0;34m=\u001b[0m\u001b[0mlocation\u001b[0m\u001b[0;34m)\u001b[0m\u001b[0;34m\u001b[0m\u001b[0;34m\u001b[0m\u001b[0m\n",
      "\u001b[0;31mBucketAlreadyOwnedByYou\u001b[0m: BucketAlreadyOwnedByYou: message: Your previous request to create the named bucket succeeded and you already own it."
     ]
    }
   ],
   "source": [
    "# The columns must correspond to user id, item id and ratings (in that order)\n",
    "data_prep_5 = data_prep_4.rename(columns={'customerId': 'userID', 'productId':'itemID', 'prod_ratings':'rating'})\n",
    "data_prep_5.to_csv(os.path.join(outdata, 'abt.csv'))\n",
    "\n",
    "#Create the experiment\n",
    "mlflow.set_experiment('Purchase Recommended System')\n",
    "\n",
    "#Create Minio Bucket for Artefact Storage\n",
    "%run -t 00_set_bucket.ipynb\n",
    "\n",
    "\n",
    "def mlflow_tracker(data, algo, params, rundesc='myrun'):\n",
    "    \"\"\" \n",
    "    return the run id and experiment id of each model\n",
    "    args: \n",
    "      reader_data: data parsed with Reader class \n",
    "      params: paramters of cross_validate function\n",
    "      rundesc: A description to populate exoeriment note\n",
    "      \n",
    "    returns: \n",
    "      run_id and experiment_id\n",
    "    \"\"\"\n",
    "        \n",
    "    # Store Algo name\n",
    "    algo_name = 'CrossValidation' + str(algo.__class__.__name__)\n",
    "\n",
    "    with mlflow.start_run(run_name=algo_name) as run:\n",
    "\n",
    "        # Store run_id and experiment_id\n",
    "        run_id=run.info.run_uuid\n",
    "        experiment_id=run.info.experiment_id\n",
    "        \n",
    "        #Read data\n",
    "        mindata = data.rating.min()\n",
    "        maxdata = data.rating.max()\n",
    "        reader = Reader(rating_scale=(mindata,maxdata))\n",
    "        data_parse = Dataset.load_from_df(data[['userID', 'itemID', 'rating']], reader)\n",
    "        \n",
    "        #Create model instance\n",
    "        redic=cross_validate(algo, data_parse, **params)\n",
    "        #Create a dataframe of means\n",
    "        recdf=pd.DataFrame.from_dict(redic).mean(axis=0)\n",
    "\n",
    "        #Log params\n",
    "        mlflow.log_params(params)\n",
    "        mlflow.log_metric('test_time', recdf.iloc[3])\n",
    "        mlflow.log_metric('test_rmse_mean', recdf.iloc[0])\n",
    "        mlflow.log_metric('test_mae_mean', recdf.iloc[1])\n",
    "        mlflow.log_metric('fit_time', recdf.iloc[2])     \n",
    "        \n",
    "        # Set the notes for Runs\n",
    "        MlflowClient().set_tag(run_id,\n",
    "                               \"mlflow.note.content\",\n",
    "                               rundesc)\n",
    "\n",
    "    return (run_id, experiment_id)"
   ]
  },
  {
   "cell_type": "markdown",
   "metadata": {},
   "source": [
    "### Basic usage: Automatic cross-validation\n",
    "\n",
    "#### Basic Algorithms\n",
    "\n",
    "##### random_pred.NormalPredictor\n",
    "Algorithm predicting a random rating based on the distribution of the training set, which is assumed to be normal.\n",
    "##### baseline_only.BaselineOnly\n",
    "Algorithm predicting the baseline estimate for given user and item.\n",
    "\n",
    "#### KNN algorithms\n",
    "\n",
    "##### knns.KNNBasic\n",
    "A basic collaborative filtering algorithm\n",
    "##### knns.KNNWithMeans\n",
    "A basic collaborative filtering algorithm, taking into account the mean ratings of each user.\n",
    "##### knns.KNNWithZScore\n",
    "A basic collaborative filtering algorithm, taking into account taking into account the z-score normalization of each user.\n",
    "##### knns.KNNBaseline\n",
    "A basic collaborative filtering algorithm taking into account a baseline rating.\n",
    "\n",
    "#### Matrix Factorization-based algorithms\n",
    "##### matrix_factorization.SVD\n",
    "The famous SVD algorithm, as popularized by Simon Funk during the Netflix Prize.When baselines are not used, this is equivalent to Probabilistic Matrix Factorization\n",
    "##### matrix_factorization.SVDpp\n",
    "The SVD++ algorithm, an extension of SVD taking into account implicit ratings.\n",
    "##### matrix_factorization.NMF\n",
    "A collaborative filtering algorithm based on Non-negative Matrix Factorization.\n",
    "\n",
    "#### Other Algorithms\n",
    "##### slope_one.SlopeOne\n",
    "A simple yet accurate collaborative filtering algorithm.\n",
    "##### co_clustering.CoClustering\n",
    "A collaborative filtering algorithm based on co-clustering.\n",
    "\n"
   ]
  },
  {
   "cell_type": "code",
   "execution_count": 13,
   "metadata": {},
   "outputs": [
    {
     "name": "stdout",
     "output_type": "stream",
     "text": [
      "Estimating biases using als...\n",
      "Estimating biases using als...\n",
      "Estimating biases using als...\n"
     ]
    }
   ],
   "source": [
    "params = {'measures': ['RMSE', 'MAE'], 'cv':3, 'verbose': False}\n",
    "algos = [BaselineOnly()]\n",
    "\n",
    "# , NormalPredictor(), KNNBasic(), KNNWithMeans(), KNNWithZScore(), KNNBaseline(), SVD(), SVDpp(), SlopeOne(), CoClustering()\n",
    "\n",
    "for algo in algos:\n",
    "    mlflow_tracker(data_prep_5, algo, params)\n",
    "    time.sleep(1)"
   ]
  },
  {
   "cell_type": "markdown",
   "metadata": {},
   "source": [
    "**Comment:  Based on the Mlflow tracking service, the best model is BaselineOnly algorithm**"
   ]
  },
  {
   "cell_type": "markdown",
   "metadata": {},
   "source": [
    "### Tuning the Best Model"
   ]
  },
  {
   "cell_type": "code",
   "execution_count": 30,
   "metadata": {},
   "outputs": [],
   "source": [
    "def preparer(data, test_size=0.25):\n",
    "    \"\"\" \n",
    "    return train and test sets \n",
    "    args: \n",
    "      data: data parsed with Reader class \n",
    "    returns: \n",
    "      trainset and testset\n",
    "    \"\"\"\n",
    "    trainset, testset = train_test_split(data, test_size=test_size)\n",
    "    return trainset, testset\n",
    "\n",
    "def trainer(trainset, bsl_options):\n",
    "    \"\"\" \n",
    "    return trained model \n",
    "    args: \n",
    "      trainset: training data parsed with Reader class\n",
    "      bsl_option: algorithm options \n",
    "    returns: \n",
    "      trained model\n",
    "    \"\"\"\n",
    "    algo = BaselineOnly(bsl_options=bsl_options)\n",
    "    model = algo.fit(trainset)\n",
    "    return model\n",
    "\n",
    "def predictor(model, testset):\n",
    "    \"\"\" \n",
    "    return trained model and predictions\n",
    "    args: \n",
    "      model: trained model\n",
    "      testset: test data parsed with Reader class \n",
    "    returns: \n",
    "      trained model and predictions\n",
    "    \"\"\"\n",
    "    predictions = model.test(testset)\n",
    "    return model, predictions\n",
    "\n",
    "def tuner(data, bsl_options_grid, param_model):\n",
    "    \"\"\" \n",
    "    return model parameters, tuning history and best tuned model\n",
    "    args: \n",
    "      data: data parsed with Reader class \n",
    "      bsl_options_grid:  algorithm options grid\n",
    "      param_model: error measures and cross validation parameters \n",
    "    returns: \n",
    "      param_model, history_tune, tuned_model\n",
    "    \"\"\"\n",
    "    \n",
    "    gs = GridSearchCV(BaselineOnly, bsl_options_grid, **param_model)\n",
    "    gs.fit(data)\n",
    "    \n",
    "    history_tune=pd.DataFrame.from_dict(gs.cv_results)\n",
    "    \n",
    "    best_bsl_options = gs.best_params['rmse']\n",
    "    \n",
    "    train, test = preparer(data)\n",
    "    tuned_model = trainer(train, best_bsl_options)\n",
    "    \n",
    "    return param_model, history_tune, tuned_model\n",
    "\n",
    " # Define utils functions for prediction readability\n",
    "\n",
    "def get_Iu(trainset, uid):\n",
    "    \"\"\"\n",
    "    return the number of items rated by given user\n",
    "    args: \n",
    "      uid: the id of the user\n",
    "    returns: \n",
    "      the number of items rated by the user\n",
    "    \"\"\"\n",
    "    try:\n",
    "        return len(trainset.ur[trainset.to_inner_uid(uid)])\n",
    "    except ValueError: # user was not part of the trainset\n",
    "        return 0\n",
    "\n",
    "def get_Ui(trainset, iid):\n",
    "    \"\"\"\n",
    "    return number of users that have rated given item\n",
    "    args:\n",
    "      iid: the raw id of the item\n",
    "    returns:\n",
    "      the number of users that have rated the item.\n",
    "    \"\"\"\n",
    "    try: \n",
    "        return len(trainset.ir[trainset.to_inner_iid(iid)])\n",
    "    except ValueError:\n",
    "        return 0\n",
    "\n",
    "def mlflow_tune_tracker(data, algo_name, param_grid, param_model, rundesc='myruntuned'):\n",
    "    \"\"\" \n",
    "    return the run id and experiment id of tuned model\n",
    "    args: \n",
    "      algo_name: the name of tuned algorithm \n",
    "      param_grid:  algorithm options grid\n",
    "      param_model: error measures and cross validation parameters \n",
    "    returns: \n",
    "      run_id, experiment_id\n",
    "    \"\"\"\n",
    "    \n",
    "    with mlflow.start_run(run_name=algo_name) as run:\n",
    "\n",
    "        # Store run_id and experiment_id\n",
    "        run_id=run.info.run_uuid\n",
    "        experiment_id=run.info.experiment_id\n",
    "        \n",
    "        #Read data\n",
    "        mindata = data.rating.min()\n",
    "        maxdata = data.rating.max()\n",
    "        reader = Reader(rating_scale=(mindata,maxdata))\n",
    "        data_parse = Dataset.load_from_df(data[['userID', 'itemID', 'rating']], reader)\n",
    "\n",
    "        #Train the model\n",
    "        trainset, testset = preparer(data_parse)\n",
    "\n",
    "        #Tune\n",
    "        params, history_tune, tuned_model = tuner(data_parse, param_grid, param_model)\n",
    "\n",
    "        #History\n",
    "        for index, row in history_tune.iterrows():\n",
    "            with mlflow.start_run(experiment_id=experiment_id, run_name=algo_name + str(index), nested=True) as subruns:\n",
    "\n",
    "                bsl_options = row['params']\n",
    "                params_tune = {**params, **bsl_options}\n",
    "\n",
    "                #Log params\n",
    "                mlflow.log_params(params_tune)\n",
    "                mlflow.log_metric('fit_time',round(row['mean_fit_time'], 3))\n",
    "                mlflow.log_metric('test_time', round(row['mean_test_time'], 3))\n",
    "                mlflow.log_metric('test_rmse_mean', round(row['mean_test_rmse'], 3))\n",
    "                mlflow.log_metric('test_mae_mean', round(row['mean_test_mae'], 3))\n",
    "\n",
    "                #Log Model (artefact)\n",
    "                temp = tempfile.NamedTemporaryFile(prefix=\"model\", suffix=\".pkl\")\n",
    "                temp_name = temp.name\n",
    "                try:\n",
    "                    model, predictions = predictor(trainer(trainset, bsl_options), testset)\n",
    "                    dump.dump(temp_name, predictions, model)\n",
    "                    mlflow.log_artifact(temp_name, 'model')\n",
    "                finally:\n",
    "                    temp.close()\n",
    "\n",
    "                 #Log best predictions\n",
    "                df = pd.DataFrame(predictions, columns=['uid', 'iid', 'rui', 'est', 'details'])\n",
    "                df['Iu'] = [get_Iu(trainset, uid) for uid in df.uid]\n",
    "                df['Ui'] = [get_Ui(trainset, iid) for iid in df.iid]\n",
    "                df['err'] = abs(df.est - df.rui)\n",
    "                best_predictions = df.sort_values(by='err')[:10]\n",
    "                temp = tempfile.NamedTemporaryFile(prefix=\"best-predicitions\", suffix=\".csv\")\n",
    "                temp_name = temp.name\n",
    "                try:\n",
    "                    best_predictions.to_csv(temp_name, index=False)\n",
    "                    mlflow.log_artifact(temp_name)\n",
    "                finally:\n",
    "                    temp.close()\n",
    "                    \n",
    "                #Log sample\n",
    "                temp = tempfile.NamedTemporaryFile(prefix=\"sample2score\", suffix=\".csv\")\n",
    "                temp_name = temp.name\n",
    "                try:\n",
    "                    data[:10].to_csv(temp_name, index=False)\n",
    "                    mlflow.log_artifact(temp_name)\n",
    "                finally:\n",
    "                    temp.close()\n",
    "                \n",
    "                    \n",
    "        MlflowClient().set_tag(run_id,\n",
    "                   \"mlflow.note.content\",\n",
    "                   rundesc)\n",
    "\n",
    "    return run_id, experiment_id    "
   ]
  },
  {
   "cell_type": "code",
   "execution_count": 31,
   "metadata": {},
   "outputs": [
    {
     "name": "stdout",
     "output_type": "stream",
     "text": [
      "Estimating biases using als...\n",
      "Estimating biases using als...\n",
      "Estimating biases using als...\n",
      "Estimating biases using als...\n",
      "Estimating biases using als...\n",
      "Estimating biases using als...\n",
      "Estimating biases using als...\n",
      "Estimating biases using als...\n",
      "Estimating biases using als...\n",
      "Estimating biases using als...\n",
      "Estimating biases using als...\n",
      "Estimating biases using als...\n",
      "Estimating biases using als...\n",
      "Estimating biases using als...\n",
      "Estimating biases using als...\n",
      "Estimating biases using als...\n",
      "Estimating biases using als...\n",
      "Estimating biases using als...\n",
      "Estimating biases using als...\n",
      "Estimating biases using als...\n",
      "Estimating biases using als...\n",
      "Estimating biases using als...\n",
      "Estimating biases using als...\n",
      "Estimating biases using als...\n",
      "Estimating biases using sgd...\n",
      "Estimating biases using sgd...\n",
      "Estimating biases using sgd...\n",
      "Estimating biases using sgd...\n",
      "Estimating biases using sgd...\n",
      "Estimating biases using sgd...\n",
      "Estimating biases using sgd...\n",
      "Estimating biases using sgd...\n",
      "Estimating biases using sgd...\n",
      "Estimating biases using sgd...\n",
      "Estimating biases using sgd...\n",
      "Estimating biases using sgd...\n",
      "Estimating biases using sgd...\n",
      "Estimating biases using sgd...\n",
      "Estimating biases using sgd...\n",
      "Estimating biases using sgd...\n",
      "Estimating biases using sgd...\n",
      "Estimating biases using sgd...\n",
      "Estimating biases using sgd...\n",
      "Estimating biases using sgd...\n",
      "Estimating biases using sgd...\n",
      "Estimating biases using sgd...\n",
      "Estimating biases using sgd...\n",
      "Estimating biases using sgd...\n",
      "Estimating biases using als...\n",
      "Estimating biases using als...\n",
      "Estimating biases using als...\n",
      "Estimating biases using als...\n",
      "Estimating biases using als...\n",
      "Estimating biases using als...\n",
      "Estimating biases using als...\n",
      "Estimating biases using als...\n",
      "Estimating biases using als...\n",
      "Estimating biases using als...\n",
      "Estimating biases using als...\n",
      "Estimating biases using als...\n",
      "Estimating biases using als...\n",
      "Estimating biases using als...\n",
      "Estimating biases using als...\n",
      "Estimating biases using als...\n",
      "Estimating biases using als...\n"
     ]
    }
   ],
   "source": [
    "param_grid = {'bsl_options' : {'method': ['als', 'sgd'],\n",
    "              'n_epochs': [5, 15],\n",
    "              'reg_u': [10, 20],\n",
    "              'reg_i': [5,15]               \n",
    "                }\n",
    "              }\n",
    "\n",
    "param_model = {\n",
    "          'measures': ['RMSE', 'MAE'], \n",
    "          'cv':3\n",
    "            }\n",
    "\n",
    "run_id, experiment_id = mlflow_tune_tracker(data_prep_5, 'BaselineOnly', param_grid, param_model)"
   ]
  },
  {
   "cell_type": "markdown",
   "metadata": {},
   "source": [
    "## Model validation\n",
    "\n",
    "Comment the best and the worst predictions"
   ]
  },
  {
   "cell_type": "markdown",
   "metadata": {},
   "source": [
    "**The best parameter combination**\n",
    "\n",
    "Then the best model is BaselineOnly4 with \n",
    "- method: 'als'\n",
    "- n_epochs: 15\n",
    "- reg_u: 10\n",
    "- reg_i: 5\n",
    "\n",
    "**Compare to all the experiments we ran so we validate the model as the best one based on RMSE metric**"
   ]
  },
  {
   "cell_type": "code",
   "execution_count": 41,
   "metadata": {},
   "outputs": [],
   "source": [
    "## Store run_id (remember to pass the id in the minio client)\n",
    "\n",
    "Champion_run_id = '4fa76aa5e00c413db3e23810a913dc8e'"
   ]
  },
  {
   "cell_type": "markdown",
   "metadata": {},
   "source": [
    "### Train, test and comment predictions"
   ]
  },
  {
   "cell_type": "code",
   "execution_count": 42,
   "metadata": {},
   "outputs": [
    {
     "name": "stdout",
     "output_type": "stream",
     "text": [
      "Using ALS\n",
      "Estimating biases using als...\n"
     ]
    }
   ],
   "source": [
    "print('Using ALS')\n",
    "bsl_options = {'method': 'als',\n",
    "               'n_epochs': 15,\n",
    "               'reg_u': 20,\n",
    "               'reg_i': 5\n",
    "               }\n",
    "\n",
    "trainset, testset = train_test_split(data, test_size=0.25)\n",
    "algo_best = BaselineOnly(bsl_options=bsl_options)\n",
    "predictions = algo_best.fit(trainset).test(testset)\n",
    "\n",
    "df = pd.DataFrame(predictions, columns=['uid', 'iid', 'rui', 'est', 'details'])\n",
    "df['Iu'] = [get_Iu(trainset, uid) for uid in df.uid]\n",
    "df['Ui'] = [get_Ui(trainset, iid) for iid in df.iid]\n",
    "df['err'] = abs(df.est - df.rui)\n",
    "best_predictions = df.sort_values(by='err')[:10]\n",
    "worst_predictions = df.sort_values(by='err')[-10:]"
   ]
  },
  {
   "cell_type": "markdown",
   "metadata": {},
   "source": [
    "### Best predictions"
   ]
  },
  {
   "cell_type": "code",
   "execution_count": 43,
   "metadata": {},
   "outputs": [
    {
     "data": {
      "text/html": [
       "<div>\n",
       "<style scoped>\n",
       "    .dataframe tbody tr th:only-of-type {\n",
       "        vertical-align: middle;\n",
       "    }\n",
       "\n",
       "    .dataframe tbody tr th {\n",
       "        vertical-align: top;\n",
       "    }\n",
       "\n",
       "    .dataframe thead th {\n",
       "        text-align: right;\n",
       "    }\n",
       "</style>\n",
       "<table border=\"1\" class=\"dataframe\">\n",
       "  <thead>\n",
       "    <tr style=\"text-align: right;\">\n",
       "      <th></th>\n",
       "      <th>uid</th>\n",
       "      <th>iid</th>\n",
       "      <th>rui</th>\n",
       "      <th>est</th>\n",
       "      <th>details</th>\n",
       "      <th>Iu</th>\n",
       "      <th>Ui</th>\n",
       "      <th>err</th>\n",
       "    </tr>\n",
       "  </thead>\n",
       "  <tbody>\n",
       "    <tr>\n",
       "      <th>33396</th>\n",
       "      <td>1081</td>\n",
       "      <td>81</td>\n",
       "      <td>0.0</td>\n",
       "      <td>0.0</td>\n",
       "      <td>{'was_impossible': False}</td>\n",
       "      <td>6</td>\n",
       "      <td>382</td>\n",
       "      <td>0.0</td>\n",
       "    </tr>\n",
       "    <tr>\n",
       "      <th>1801</th>\n",
       "      <td>24566</td>\n",
       "      <td>15</td>\n",
       "      <td>0.0</td>\n",
       "      <td>0.0</td>\n",
       "      <td>{'was_impossible': False}</td>\n",
       "      <td>6</td>\n",
       "      <td>900</td>\n",
       "      <td>0.0</td>\n",
       "    </tr>\n",
       "    <tr>\n",
       "      <th>32656</th>\n",
       "      <td>4324</td>\n",
       "      <td>2</td>\n",
       "      <td>0.0</td>\n",
       "      <td>0.0</td>\n",
       "      <td>{'was_impossible': False}</td>\n",
       "      <td>9</td>\n",
       "      <td>2792</td>\n",
       "      <td>0.0</td>\n",
       "    </tr>\n",
       "    <tr>\n",
       "      <th>10029</th>\n",
       "      <td>5904</td>\n",
       "      <td>61</td>\n",
       "      <td>0.0</td>\n",
       "      <td>0.0</td>\n",
       "      <td>{'was_impossible': False}</td>\n",
       "      <td>21</td>\n",
       "      <td>514</td>\n",
       "      <td>0.0</td>\n",
       "    </tr>\n",
       "    <tr>\n",
       "      <th>32659</th>\n",
       "      <td>8629</td>\n",
       "      <td>47</td>\n",
       "      <td>0.0</td>\n",
       "      <td>0.0</td>\n",
       "      <td>{'was_impossible': False}</td>\n",
       "      <td>12</td>\n",
       "      <td>502</td>\n",
       "      <td>0.0</td>\n",
       "    </tr>\n",
       "    <tr>\n",
       "      <th>10051</th>\n",
       "      <td>3014</td>\n",
       "      <td>55</td>\n",
       "      <td>0.0</td>\n",
       "      <td>0.0</td>\n",
       "      <td>{'was_impossible': False}</td>\n",
       "      <td>13</td>\n",
       "      <td>446</td>\n",
       "      <td>0.0</td>\n",
       "    </tr>\n",
       "    <tr>\n",
       "      <th>1767</th>\n",
       "      <td>7865</td>\n",
       "      <td>47</td>\n",
       "      <td>0.0</td>\n",
       "      <td>0.0</td>\n",
       "      <td>{'was_impossible': False}</td>\n",
       "      <td>8</td>\n",
       "      <td>502</td>\n",
       "      <td>0.0</td>\n",
       "    </tr>\n",
       "    <tr>\n",
       "      <th>1804</th>\n",
       "      <td>14430</td>\n",
       "      <td>124</td>\n",
       "      <td>0.0</td>\n",
       "      <td>0.0</td>\n",
       "      <td>{'was_impossible': False}</td>\n",
       "      <td>5</td>\n",
       "      <td>318</td>\n",
       "      <td>0.0</td>\n",
       "    </tr>\n",
       "    <tr>\n",
       "      <th>1762</th>\n",
       "      <td>27657</td>\n",
       "      <td>81</td>\n",
       "      <td>0.0</td>\n",
       "      <td>0.0</td>\n",
       "      <td>{'was_impossible': False}</td>\n",
       "      <td>3</td>\n",
       "      <td>382</td>\n",
       "      <td>0.0</td>\n",
       "    </tr>\n",
       "    <tr>\n",
       "      <th>32675</th>\n",
       "      <td>8201</td>\n",
       "      <td>2</td>\n",
       "      <td>0.0</td>\n",
       "      <td>0.0</td>\n",
       "      <td>{'was_impossible': False}</td>\n",
       "      <td>9</td>\n",
       "      <td>2792</td>\n",
       "      <td>0.0</td>\n",
       "    </tr>\n",
       "  </tbody>\n",
       "</table>\n",
       "</div>"
      ],
      "text/plain": [
       "         uid  iid  rui  est                    details  Iu    Ui  err\n",
       "33396   1081   81  0.0  0.0  {'was_impossible': False}   6   382  0.0\n",
       "1801   24566   15  0.0  0.0  {'was_impossible': False}   6   900  0.0\n",
       "32656   4324    2  0.0  0.0  {'was_impossible': False}   9  2792  0.0\n",
       "10029   5904   61  0.0  0.0  {'was_impossible': False}  21   514  0.0\n",
       "32659   8629   47  0.0  0.0  {'was_impossible': False}  12   502  0.0\n",
       "10051   3014   55  0.0  0.0  {'was_impossible': False}  13   446  0.0\n",
       "1767    7865   47  0.0  0.0  {'was_impossible': False}   8   502  0.0\n",
       "1804   14430  124  0.0  0.0  {'was_impossible': False}   5   318  0.0\n",
       "1762   27657   81  0.0  0.0  {'was_impossible': False}   3   382  0.0\n",
       "32675   8201    2  0.0  0.0  {'was_impossible': False}   9  2792  0.0"
      ]
     },
     "execution_count": 43,
     "metadata": {},
     "output_type": "execute_result"
    }
   ],
   "source": [
    "best_predictions"
   ]
  },
  {
   "cell_type": "code",
   "execution_count": 44,
   "metadata": {},
   "outputs": [
    {
     "data": {
      "image/png": "[encoded data removed]",
      "text/plain": [
       "<Figure size 432x288 with 1 Axes>"
      ]
     },
     "metadata": {
      "needs_background": "light"
     },
     "output_type": "display_data"
    }
   ],
   "source": [
    "data_prep_4.loc[data_prep_4['productId'] == '14']['prod_ratings'].hist()\n",
    "plt.xlabel('rating')\n",
    "plt.ylabel('Number of ratings')\n",
    "plt.title('Number of ratings 25 has received')\n",
    "plt.show();"
   ]
  },
  {
   "cell_type": "markdown",
   "metadata": {},
   "source": [
    "### Worst Predictions"
   ]
  },
  {
   "cell_type": "markdown",
   "metadata": {},
   "source": [
    "**Comments**: Because Ui is anywhere between 275 to 2792, it's good because we have a lot of people who buy the product (a kind of preference)"
   ]
  },
  {
   "cell_type": "code",
   "execution_count": 45,
   "metadata": {},
   "outputs": [
    {
     "data": {
      "text/html": [
       "<div>\n",
       "<style scoped>\n",
       "    .dataframe tbody tr th:only-of-type {\n",
       "        vertical-align: middle;\n",
       "    }\n",
       "\n",
       "    .dataframe tbody tr th {\n",
       "        vertical-align: top;\n",
       "    }\n",
       "\n",
       "    .dataframe thead th {\n",
       "        text-align: right;\n",
       "    }\n",
       "</style>\n",
       "<table border=\"1\" class=\"dataframe\">\n",
       "  <thead>\n",
       "    <tr style=\"text-align: right;\">\n",
       "      <th></th>\n",
       "      <th>uid</th>\n",
       "      <th>iid</th>\n",
       "      <th>rui</th>\n",
       "      <th>est</th>\n",
       "      <th>details</th>\n",
       "      <th>Iu</th>\n",
       "      <th>Ui</th>\n",
       "      <th>err</th>\n",
       "    </tr>\n",
       "  </thead>\n",
       "  <tbody>\n",
       "    <tr>\n",
       "      <th>16170</th>\n",
       "      <td>8348</td>\n",
       "      <td>206</td>\n",
       "      <td>10.0</td>\n",
       "      <td>0.379950</td>\n",
       "      <td>{'was_impossible': False}</td>\n",
       "      <td>0</td>\n",
       "      <td>269</td>\n",
       "      <td>9.620050</td>\n",
       "    </tr>\n",
       "    <tr>\n",
       "      <th>4971</th>\n",
       "      <td>12355</td>\n",
       "      <td>177</td>\n",
       "      <td>10.0</td>\n",
       "      <td>0.367613</td>\n",
       "      <td>{'was_impossible': False}</td>\n",
       "      <td>1</td>\n",
       "      <td>143</td>\n",
       "      <td>9.632387</td>\n",
       "    </tr>\n",
       "    <tr>\n",
       "      <th>25448</th>\n",
       "      <td>171</td>\n",
       "      <td>59</td>\n",
       "      <td>10.0</td>\n",
       "      <td>0.357694</td>\n",
       "      <td>{'was_impossible': False}</td>\n",
       "      <td>22</td>\n",
       "      <td>605</td>\n",
       "      <td>9.642306</td>\n",
       "    </tr>\n",
       "    <tr>\n",
       "      <th>8116</th>\n",
       "      <td>389</td>\n",
       "      <td>149</td>\n",
       "      <td>10.0</td>\n",
       "      <td>0.353650</td>\n",
       "      <td>{'was_impossible': False}</td>\n",
       "      <td>2</td>\n",
       "      <td>298</td>\n",
       "      <td>9.646350</td>\n",
       "    </tr>\n",
       "    <tr>\n",
       "      <th>21320</th>\n",
       "      <td>1974</td>\n",
       "      <td>49</td>\n",
       "      <td>10.0</td>\n",
       "      <td>0.321835</td>\n",
       "      <td>{'was_impossible': False}</td>\n",
       "      <td>21</td>\n",
       "      <td>397</td>\n",
       "      <td>9.678165</td>\n",
       "    </tr>\n",
       "    <tr>\n",
       "      <th>29609</th>\n",
       "      <td>618</td>\n",
       "      <td>78</td>\n",
       "      <td>10.0</td>\n",
       "      <td>0.304715</td>\n",
       "      <td>{'was_impossible': False}</td>\n",
       "      <td>7</td>\n",
       "      <td>426</td>\n",
       "      <td>9.695285</td>\n",
       "    </tr>\n",
       "    <tr>\n",
       "      <th>20066</th>\n",
       "      <td>9973</td>\n",
       "      <td>211</td>\n",
       "      <td>10.0</td>\n",
       "      <td>0.287629</td>\n",
       "      <td>{'was_impossible': False}</td>\n",
       "      <td>23</td>\n",
       "      <td>232</td>\n",
       "      <td>9.712371</td>\n",
       "    </tr>\n",
       "    <tr>\n",
       "      <th>32130</th>\n",
       "      <td>90</td>\n",
       "      <td>252</td>\n",
       "      <td>10.0</td>\n",
       "      <td>0.256262</td>\n",
       "      <td>{'was_impossible': False}</td>\n",
       "      <td>21</td>\n",
       "      <td>49</td>\n",
       "      <td>9.743738</td>\n",
       "    </tr>\n",
       "    <tr>\n",
       "      <th>2847</th>\n",
       "      <td>13085</td>\n",
       "      <td>198</td>\n",
       "      <td>10.0</td>\n",
       "      <td>0.249132</td>\n",
       "      <td>{'was_impossible': False}</td>\n",
       "      <td>6</td>\n",
       "      <td>290</td>\n",
       "      <td>9.750868</td>\n",
       "    </tr>\n",
       "    <tr>\n",
       "      <th>8928</th>\n",
       "      <td>22548</td>\n",
       "      <td>122</td>\n",
       "      <td>10.0</td>\n",
       "      <td>0.233599</td>\n",
       "      <td>{'was_impossible': False}</td>\n",
       "      <td>4</td>\n",
       "      <td>344</td>\n",
       "      <td>9.766401</td>\n",
       "    </tr>\n",
       "  </tbody>\n",
       "</table>\n",
       "</div>"
      ],
      "text/plain": [
       "         uid  iid   rui       est                    details  Iu   Ui       err\n",
       "16170   8348  206  10.0  0.379950  {'was_impossible': False}   0  269  9.620050\n",
       "4971   12355  177  10.0  0.367613  {'was_impossible': False}   1  143  9.632387\n",
       "25448    171   59  10.0  0.357694  {'was_impossible': False}  22  605  9.642306\n",
       "8116     389  149  10.0  0.353650  {'was_impossible': False}   2  298  9.646350\n",
       "21320   1974   49  10.0  0.321835  {'was_impossible': False}  21  397  9.678165\n",
       "29609    618   78  10.0  0.304715  {'was_impossible': False}   7  426  9.695285\n",
       "20066   9973  211  10.0  0.287629  {'was_impossible': False}  23  232  9.712371\n",
       "32130     90  252  10.0  0.256262  {'was_impossible': False}  21   49  9.743738\n",
       "2847   13085  198  10.0  0.249132  {'was_impossible': False}   6  290  9.750868\n",
       "8928   22548  122  10.0  0.233599  {'was_impossible': False}   4  344  9.766401"
      ]
     },
     "execution_count": 45,
     "metadata": {},
     "output_type": "execute_result"
    }
   ],
   "source": [
    "worst_predictions"
   ]
  },
  {
   "cell_type": "markdown",
   "metadata": {},
   "source": [
    "**Comments**: Really bad. Because consider the item 148, the user buy it 0 times but the algorithm says he buy always, Also if we look at distribution only few people buy it frequently"
   ]
  },
  {
   "cell_type": "code",
   "execution_count": 46,
   "metadata": {},
   "outputs": [
    {
     "data": {
      "image/png": "[encoded data removed]",
      "text/plain": [
       "<Figure size 432x288 with 1 Axes>"
      ]
     },
     "metadata": {
      "needs_background": "light"
     },
     "output_type": "display_data"
    }
   ],
   "source": [
    "data_prep_4.loc[data_prep_4['productId'] == '148']['prod_ratings'].hist()\n",
    "plt.xlabel('rating')\n",
    "plt.ylabel('Number of ratings')\n",
    "plt.title('Number of ratings 148 has received')\n",
    "plt.show();"
   ]
  },
  {
   "cell_type": "markdown",
   "metadata": {},
   "source": [
    "## Model Registration\n",
    "\n",
    "Register the Model in the Mlflow Model Registry and set its status as STAGING"
   ]
  },
  {
   "cell_type": "code",
   "execution_count": 47,
   "metadata": {},
   "outputs": [
    {
     "name": "stderr",
     "output_type": "stream",
     "text": [
      "Registered model 'Champion' already exists. Creating a new version of this model...\n",
      "Created version '5' of model 'Champion'.\n"
     ]
    }
   ],
   "source": [
    "model_name = 'Champion'\n",
    "artifact_path = \"model\"\n",
    "model_uri = \"runs:/{run_id}/{artifact_path}\".format(run_id=Champion_run_id, artifact_path=artifact_path)\n",
    "\n",
    "model_details = mlflow.register_model(model_uri=model_uri, name=model_name)"
   ]
  },
  {
   "cell_type": "code",
   "execution_count": 48,
   "metadata": {},
   "outputs": [
    {
     "name": "stdout",
     "output_type": "stream",
     "text": [
      "The current model stage is: 'Staging'\n"
     ]
    }
   ],
   "source": [
    "client = MlflowClient()\n",
    "client.update_registered_model(\n",
    "  name=model_details.name,\n",
    "  description=\"This model provides recommendation for specific users and items based on purchase data. The data consists of user transactions\"\n",
    ")\n",
    "\n",
    "client.update_model_version(\n",
    "  name=model_details.name,\n",
    "  version=model_details.version,\n",
    "  description=\"This model was built with Surprise library. It is a ALS based BaselineOnly algorithm\"\n",
    ")\n",
    "\n",
    "client.transition_model_version_stage(\n",
    "  name=model_details.name,\n",
    "  version=model_details.version,\n",
    "  stage='Staging',\n",
    ")\n",
    "model_version_details = client.get_model_version(\n",
    "  name=model_details.name,\n",
    "  version=model_details.version,\n",
    ")\n",
    "print(\"The current model stage is: '{stage}'\".format(stage=model_version_details.current_stage))"
   ]
  }
 ],
 "metadata": {
  "kernelspec": {
   "display_name": "Python 3",
   "language": "python",
   "name": "python3"
  },
  "language_info": {
   "codemirror_mode": {
    "name": "ipython",
    "version": 3
   },
   "file_extension": ".py",
   "mimetype": "text/x-python",
   "name": "python",
   "nbconvert_exporter": "python",
   "pygments_lexer": "ipython3",
   "version": "3.7.6"
  },
  "toc-autonumbering": true,
  "toc-showtags": false
 },
 "nbformat": 4,
 "nbformat_minor": 4
}
