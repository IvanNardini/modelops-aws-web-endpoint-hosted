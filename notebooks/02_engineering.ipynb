{
 "cells": [
  {
   "cell_type": "markdown",
   "metadata": {},
   "source": [
    "# Build a Recommendation System for Purchase Data\n",
    "\n",
    "The scope of this notebook is \n",
    "\n",
    "- Prepare the Scoring Function\n",
    "- Unit Test the Score\n",
    "- Build Flask Scoring App and deploy as a Web End point\n",
    "- Build Dash App and deploy as Interactive Web Services\n",
    "\n",
    "The Business case is an mobile app allowing its customers to place orders before they even have to walk into the store.\n",
    "When a customer first taps on the “order” page, we may recommend \n",
    "\n",
    "- Personalized recommendation with ranked list of items (product IDs) that the user is most likely to want to put in his/her (empty) “basket”\n",
    "\n",
    "Assuming that the scenario is ModelOps 0. Then: \n",
    "\n",
    "1. Data scientists hand over a trained model as an artifact to the engineering team for deployement\n",
    "2. The handoff can include putting the trained model in the models registry\n",
    "3. The Scoring process is in Batch on a sigle EC2 instance\n",
    "\n",
    "We have to reproduce the required development enviroment\n",
    "\n",
    "0. Define Artefacter function to get the last version of Champion Model (optional)\n",
    "\n",
    "1. Define Scoring Functions: Batch scoring is the main assumption\n",
    "\n",
    "    - Define the get_top_items function \n",
    "    - Define the get_top_n_ui function\n",
    "    \n",
    "\n",
    "2. Unit Test \n",
    "\n",
    "3. Define a quick front end that simulate Mobile App (Test it in Docker)\n"
   ]
  },
  {
   "cell_type": "markdown",
   "metadata": {},
   "source": [
    "## Settings"
   ]
  },
  {
   "cell_type": "markdown",
   "metadata": {},
   "source": [
    "### Import libraries"
   ]
  },
  {
   "cell_type": "code",
   "execution_count": 90,
   "metadata": {},
   "outputs": [],
   "source": [
    "#Data\n",
    "import sqlalchemy as sql\n",
    "\n",
    "#Data Science\n",
    "import numpy as np\n",
    "import pandas as pd\n",
    "import sklearn\n",
    "import scipy\n",
    "import surprise\n",
    "from surprise import dump\n",
    "\n",
    "#Model Tracking\n",
    "import mlflow\n",
    "from mlflow.tracking import MlflowClient\n",
    "\n",
    "#ML engineering\n",
    "import flask\n",
    "from flask import jsonify\n",
    "\n",
    "#Utils\n",
    "import os\n",
    "import glob\n",
    "import shutil\n",
    "import logging\n",
    "from collections import defaultdict\n",
    "import configparser\n",
    "import json\n",
    "import pickle\n",
    "import unittest\n",
    "import docker\n",
    "import pprint\n",
    "import time\n",
    "import requests\n",
    "\n",
    "#Settings\n",
    "from pprint import pprint\n",
    "pd.set_option('display.max_rows', 500)\n",
    "pd.set_option('display.max_columns', 500)\n",
    "pd.set_option('display.width', 1000)"
   ]
  },
  {
   "cell_type": "markdown",
   "metadata": {},
   "source": [
    "### Set enviroment variables"
   ]
  },
  {
   "cell_type": "code",
   "execution_count": 2,
   "metadata": {},
   "outputs": [],
   "source": [
    "# Enviroment variables\n",
    "outmodels = '../models/'\n",
    "app_folder = '../src/app'\n",
    "\n",
    "# Set dbconnection variables\n",
    "dbconnPath = './dbconn.properties'\n",
    "config = configparser.RawConfigParser()\n",
    "config.read(dbconnPath)\n",
    "params = config\n",
    "db_host=params.get('CONN', 'host')\n",
    "db_port=params.get('CONN', 'port')\n",
    "db_user=params.get('CONN', 'user')\n",
    "db_pwd=params.get('CONN', 'password')\n",
    "db_name=params.get('CONN', 'database')\n",
    "\n",
    "# Set connection string\n",
    "connection_str = f'mysql+pymysql://{db_user}:{db_pwd}@{db_host}:{db_port}/{db_name}'"
   ]
  },
  {
   "cell_type": "markdown",
   "metadata": {},
   "source": [
    "### Download Model Artefact from Mlflow server"
   ]
  },
  {
   "cell_type": "code",
   "execution_count": 3,
   "metadata": {},
   "outputs": [
    {
     "name": "stderr",
     "output_type": "stream",
     "text": [
      "/opt/conda/lib/python3.7/site-packages/botocore/vendored/requests/packages/urllib3/_collections.py:1: DeprecationWarning: Using or importing the ABCs from 'collections' instead of from 'collections.abc' is deprecated since Python 3.3,and in 3.9 it will stop working\n",
      "  from collections import Mapping, MutableMapping\n"
     ]
    }
   ],
   "source": [
    "client = MlflowClient()\n",
    "for regmodel in client.list_registered_models():\n",
    "    regmodel_info = dict(regmodel)\n",
    "\n",
    "# pprint(regmodel_info, indent=3)\n",
    "\n",
    "champion=client.get_registered_model('Champion')\n",
    "championid=champion.latest_versions[-1].run_id\n",
    "\n",
    "art_list = [arts.path for arts in client.list_artifacts(championid, path=None)]\n",
    "\n",
    "for art_path in art_list: \n",
    "    client.download_artifacts(championid, art_path, outmodels)"
   ]
  },
  {
   "cell_type": "markdown",
   "metadata": {},
   "source": [
    "### Analyze the Model Artifact"
   ]
  },
  {
   "cell_type": "code",
   "execution_count": 4,
   "metadata": {},
   "outputs": [
    {
     "name": "stdout",
     "output_type": "stream",
     "text": [
      "\n",
      "\n",
      "Sample of Predictions: \n",
      "\n",
      " [Prediction(uid='100', iid='0', r_ui=1.0, est=1.4104866760238497, details={'was_impossible': False}), Prediction(uid='100', iid='118', r_ui=2.0, est=1.6290418315812665, details={'was_impossible': False}), Prediction(uid='100', iid='201', r_ui=1.0, est=1.0281647548199493, details={'was_impossible': False}), Prediction(uid='100', iid='24', r_ui=2.0, est=1.065194864590783, details={'was_impossible': False}), Prediction(uid='100', iid='27', r_ui=4.0, est=1.4686861264367166, details={'was_impossible': False}), Prediction(uid='100', iid='282', r_ui=6.0, est=1.2631693065495946, details={'was_impossible': False}), Prediction(uid='100', iid='51', r_ui=0.0, est=1.3060476975670121, details={'was_impossible': False}), Prediction(uid='100', iid='6', r_ui=0.0, est=1.8579018429484466, details={'was_impossible': False}), Prediction(uid='100', iid='62', r_ui=2.0, est=1.0656423124377505, details={'was_impossible': False}), Prediction(uid='100', iid='67', r_ui=3.0, est=1.5598915237397826, details={'was_impossible': False})]\n",
      "\n",
      " Number of predictions: 133585\n"
     ]
    }
   ],
   "source": [
    "modelpkl = [modelpath for modelpath in glob.glob(outmodels + 'model/*.pkl')][0]\n",
    "modelpkl\n",
    "\n",
    "predictions, algo = dump.load(modelpkl)\n",
    "\n",
    "print('\\n')\n",
    "print('Sample of Predictions: ')\n",
    "print('\\n', predictions[0:10])\n",
    "print('\\n', 'Number of predictions:', len(predictions))"
   ]
  },
  {
   "cell_type": "markdown",
   "metadata": {},
   "source": [
    "## Machine Learning Engineering"
   ]
  },
  {
   "cell_type": "markdown",
   "metadata": {
    "toc-hr-collapsed": true,
    "toc-nb-collapsed": true
   },
   "source": [
    "### Scoring Function\n",
    "\n",
    "We have to return Top 10 Recommended Items by userid"
   ]
  },
  {
   "cell_type": "markdown",
   "metadata": {},
   "source": [
    "#### Define the scoring function"
   ]
  },
  {
   "cell_type": "code",
   "execution_count": 5,
   "metadata": {},
   "outputs": [],
   "source": [
    "def get_top(predictions, n=10):\n",
    "    \n",
    "    '''\n",
    "    Returns the the top-N recommendation from a set of predictions\n",
    "    \n",
    "    '''\n",
    "    # First map the predictions to each user.\n",
    "    top_n = defaultdict(list)\n",
    "    for uid, iid, true_r, est, _ in predictions:\n",
    "        top_n[uid].append((iid, est))\n",
    "        \n",
    "    # Then sort the predictions for each user and retrieve the k highest ones.\n",
    "    for uid, user_ratings in top_n.items():\n",
    "        user_ratings.sort(key=lambda x: x[1], reverse=True)\n",
    "        top_n[uid] = user_ratings[:n]\n",
    "        \n",
    "    return top_n\n",
    "\n",
    "def get_top_n_ui(top, uid):\n",
    "    try:\n",
    "        top_n_ui = [[iid for (iid, _) in user_ratings] for UID, user_ratings in top.items() if UID==uid][0]\n",
    "        return top_n_ui\n",
    "    except ValueError: # user was not part of the trainset\n",
    "        return 0"
   ]
  },
  {
   "cell_type": "markdown",
   "metadata": {},
   "source": [
    "#### Unit test"
   ]
  },
  {
   "cell_type": "code",
   "execution_count": 6,
   "metadata": {},
   "outputs": [
    {
     "name": "stderr",
     "output_type": "stream",
     "text": [
      "..\n",
      "----------------------------------------------------------------------\n",
      "Ran 2 tests in 0.280s\n",
      "\n",
      "OK\n"
     ]
    },
    {
     "data": {
      "text/plain": [
       "<unittest.main.TestProgram at 0x7fd602c87510>"
      ]
     },
     "execution_count": 6,
     "metadata": {},
     "output_type": "execute_result"
    }
   ],
   "source": [
    "class TestScoreFunction(unittest.TestCase):\n",
    "    \n",
    "    def setUp(self):\n",
    "        self.testcase = \"100\"\n",
    "        self.expected = ['6', '118', '67', '27', '0', '51', '282', '62', '24', '201']\n",
    "    \n",
    "    def test_empty(self):\n",
    "        self.assertTrue(bool(get_top_n_ui(get_top(predictions), self.testcase)))\n",
    "\n",
    "    def test_basic(self):\n",
    "        self.assertEqual(get_top_n_ui(get_top(predictions), self.testcase), self.expected)\n",
    "        \n",
    "unittest.main(argv = ['first-arg-is-ignored'], exit = False)"
   ]
  },
  {
   "cell_type": "markdown",
   "metadata": {},
   "source": [
    "### Create the Scoring Flask App and deploy as web endpoint\n",
    "\n",
    "Because we're testing, I need a app folder with the model and: \n",
    "\n",
    "1. app.py\n",
    "2. requirements.txt\n",
    "3. Dockerfile\n",
    "\n",
    "Then run the application with Docker Client and test it "
   ]
  },
  {
   "cell_type": "markdown",
   "metadata": {},
   "source": [
    "#### Create a app folder"
   ]
  },
  {
   "cell_type": "code",
   "execution_count": 9,
   "metadata": {},
   "outputs": [],
   "source": [
    "if not os.path.exists(app_folder):\n",
    "    os.makedirs(app_folder)"
   ]
  },
  {
   "cell_type": "markdown",
   "metadata": {},
   "source": [
    "#### Copy the model"
   ]
  },
  {
   "cell_type": "code",
   "execution_count": 10,
   "metadata": {},
   "outputs": [],
   "source": [
    "if not os.path.exists(app_folder + '/model'):\n",
    "    shutil.copytree(src=outmodels + 'model', dst=app_folder + '/model')"
   ]
  },
  {
   "cell_type": "code",
   "execution_count": 11,
   "metadata": {},
   "outputs": [],
   "source": [
    "os.chdir(app_folder)"
   ]
  },
  {
   "cell_type": "markdown",
   "metadata": {},
   "source": [
    "#### Write the app.py"
   ]
  },
  {
   "cell_type": "code",
   "execution_count": 141,
   "metadata": {},
   "outputs": [
    {
     "name": "stdout",
     "output_type": "stream",
     "text": [
      "Overwriting app.py\n"
     ]
    }
   ],
   "source": [
    "%%writefile app.py\n",
    "\n",
    "# -*- coding: utf-8 -*-\n",
    "\n",
    "import os\n",
    "import logging\n",
    "\n",
    "import pandas as pd\n",
    "from surprise import dump\n",
    "\n",
    "import flask\n",
    "\n",
    "import warnings\n",
    "warnings.filterwarnings(\"ignore\")\n",
    "\n",
    "#create an instance\n",
    "app = flask.Flask(__name__)\n",
    "\n",
    "def locate_model(dest):\n",
    "    \n",
    "    \"\"\" \n",
    "    return path of binary model\n",
    "    args:\n",
    "       dest: folder for searching\n",
    "    returns:\n",
    "       model_path\n",
    "    \"\"\"\n",
    "\n",
    "    for dirpath, dirnames, filenames in os.walk(dest):\n",
    "        for filename in [f for f in filenames if f.endswith((\".pkl\", \".pickle\"))]:\n",
    "            model_path = os.path.join(dirpath, filename)\n",
    "            return model_path\n",
    "    return None\n",
    "\n",
    "def model_reader(model_path):\n",
    "    \"\"\" \n",
    "    return predictions and model class\n",
    "    args:\n",
    "       model_path: pickle file path\n",
    "    returns:\n",
    "       predictions and model\n",
    "    \"\"\"\n",
    "    predictions, algo = dump.load(model_path)\n",
    "    return predictions, algo\n",
    "\n",
    "def get_top(predictions, n=10):\n",
    "    \n",
    "    '''\n",
    "    Returns the the top-N recommendation from a set of predictions\n",
    "    args:\n",
    "       predictions: predictions generated in testing phase\n",
    "       n: number of items to suggest (default=10)\n",
    "    return:\n",
    "       top_n dictionary: user-prediction dictionaries\n",
    "    '''\n",
    "    # First map the predictions to each user.\n",
    "    top_n = defaultdict(list)\n",
    "    for uid, iid, true_r, est, _ in predictions:\n",
    "        top_n[uid].append((iid, est))\n",
    "        \n",
    "    # Then sort the predictions for each user and retrieve the k highest ones.\n",
    "    for uid, user_ratings in top_n.items():\n",
    "        user_ratings.sort(key=lambda x: x[1], reverse=True)\n",
    "        top_n[uid] = user_ratings[:n]\n",
    "        \n",
    "    return top_n\n",
    "\n",
    "def get_top_n_ui(top, uid):\n",
    "    '''\n",
    "    Returns the list of selected items\n",
    "    args:\n",
    "       top: user-prediction dictionaries\n",
    "       uid: user id for filtering\n",
    "    return:\n",
    "       top_n dictionary: user-prediction dictionaries\n",
    "    '''\n",
    "    try:\n",
    "        top_n_ui = [[iid for (iid, _) in user_ratings] for UID, user_ratings in top.items() if UID==uid][0]\n",
    "        return top_n_ui\n",
    "    except ValueError: \n",
    "        return 0\n",
    "\n",
    "@app.route('/predict', methods=['GET','POST'])\n",
    "def predict():\n",
    "    \n",
    "    logging.info('Scoring Application is starting to process the request')\n",
    "    \n",
    "    #Intiate variables\n",
    "    data = defaultdict()\n",
    "    data[\"success\"] = False\n",
    "    params = flask.request.args\n",
    "    \n",
    "    if 'uid' in params.keys():\n",
    "        uid_toscore = str(params.get('uid'))\n",
    "        model_path = locate_model(os.getcwd())\n",
    "        predictions, _ = model_reader(model_path)\n",
    "        uid_predictions = get_top_n_ui(get_top(predictions), uid_toscore)\n",
    "        \n",
    "        prediction_rank_lenght = len(uid_predictions)\n",
    "        prediction_rank_labels = [\"\".join([\" Product\", str(i)]) for i in range(1,prediction_rank_lenght)]\n",
    "        products_recommended = pd.DataFrame(list(zip(prediction_rank_labels, uid_predictions)), columns=['Product_Rank', 'Product_id'])\n",
    "\n",
    "        data['response'] = products_recommended.to_dict()\n",
    "        data['success'] = True\n",
    "    \n",
    "    return flask.jsonify(data)\n",
    "            \n",
    "if __name__ == '__main__':\n",
    "    app.run(host='0.0.0.0', port=9999, debug=True)"
   ]
  },
  {
   "cell_type": "markdown",
   "metadata": {},
   "source": [
    "#### Write the requirements.txt"
   ]
  },
  {
   "cell_type": "code",
   "execution_count": 144,
   "metadata": {},
   "outputs": [
    {
     "name": "stdout",
     "output_type": "stream",
     "text": [
      "1.0.3\n",
      "1.18.4\n",
      "1.0.4\n",
      "0.22.2.post1\n",
      "1.1.0\n"
     ]
    }
   ],
   "source": [
    "print(flask.__version__)\n",
    "print(np.__version__)\n",
    "print(pd.__version__)\n",
    "print(sklearn.__version__)\n",
    "print(surprise.__version__)"
   ]
  },
  {
   "cell_type": "code",
   "execution_count": 145,
   "metadata": {},
   "outputs": [
    {
     "name": "stdout",
     "output_type": "stream",
     "text": [
      "Overwriting requirements.txt\n"
     ]
    }
   ],
   "source": [
    "%%writefile requirements.txt\n",
    "\n",
    "numpy\n",
    "pandas\n",
    "scikit-surprise\n",
    "flask"
   ]
  },
  {
   "cell_type": "markdown",
   "metadata": {},
   "source": [
    "#### Write the dockerfile"
   ]
  },
  {
   "cell_type": "code",
   "execution_count": 155,
   "metadata": {},
   "outputs": [
    {
     "name": "stdout",
     "output_type": "stream",
     "text": [
      "Overwriting Dockerfile\n"
     ]
    }
   ],
   "source": [
    "%%writefile Dockerfile\n",
    "\n",
    "# Use an official Python runtime as parent image\n",
    "FROM python:3\n",
    "    \n",
    "LABEL Scoring App = \"Recommendation System - Python - Surprise\"\n",
    "\n",
    "# RUN apt-get update && apt-get install -y \\\n",
    "# python3-dev \\\n",
    "# build-essential    \n",
    "        \n",
    "# Set the working directory to /app\n",
    "WORKDIR /app\n",
    "\n",
    "# Copy the current directory contents into the container at /app\n",
    "ADD . /app\n",
    "\n",
    "# Upgrade pip and install any needed packages specified in requirements.txt\n",
    "RUN pip install --upgrade pip\n",
    "RUN pip install --no-cache-dir -r requirements.txt\n",
    "\n",
    "# Make port 9999 available\n",
    "EXPOSE 9999\n",
    "\n",
    "#Entrypoint python exec\n",
    "ENTRYPOINT [ \"python\" ]\n",
    "\n",
    "#Run flask application\n",
    "CMD [ \"app.py\" ]"
   ]
  },
  {
   "cell_type": "markdown",
   "metadata": {},
   "source": [
    "#### Run the Application"
   ]
  },
  {
   "cell_type": "code",
   "execution_count": 158,
   "metadata": {},
   "outputs": [
    {
     "name": "stdout",
     "output_type": "stream",
     "text": [
      "{'Status': 'created', 'Running': False, 'Paused': False, 'Restarting': False, 'OOMKilled': False, 'Dead': False, 'Pid': 0, 'ExitCode': 0, 'Error': '', 'StartedAt': '0001-01-01T00:00:00Z', 'FinishedAt': '0001-01-01T00:00:00Z'}\n",
      "--------------------------------------------------\n",
      "{'Status': 'running', 'Running': True, 'Paused': False, 'Restarting': False, 'OOMKilled': False, 'Dead': False, 'Pid': 27221, 'ExitCode': 0, 'Error': '', 'StartedAt': '2020-06-01T08:28:39.578607071Z', 'FinishedAt': '0001-01-01T00:00:00Z'}\n"
     ]
    }
   ],
   "source": [
    "image_name = \"score-flask_app:1\"\n",
    "\n",
    "#Client instance\n",
    "dockercli = docker.DockerClient()\n",
    "\n",
    "#Check for image\n",
    "if not dockercli.images.list(image_name):\n",
    "    #if not build it\n",
    "    dockercli.images.build(path='.', tag = image_name)\n",
    "else:\n",
    "    dockercli.images.remove(image_name, force = True)\n",
    "    dockercli.images.build(path='.', tag = image_name)\n",
    "try:\n",
    "    app_container = dockercli.containers.run(image_name, name='scoring_app_test', detach=True, ports={'9999/tcp': 9999})\n",
    "    status = app_container.attrs\n",
    "    print(status['State'])\n",
    "    while (status['State']['Running'] == False):\n",
    "        time.sleep(3)\n",
    "        app_container.reload()\n",
    "        status = app_container.attrs\n",
    "        print(''.center(50, '-'))\n",
    "        print(status['State'])\n",
    "except RuntimeError as error:\n",
    "    print(error)"
   ]
  },
  {
   "cell_type": "markdown",
   "metadata": {},
   "source": [
    "#### Test the Flask Scoring App as web endpoint"
   ]
  },
  {
   "cell_type": "code",
   "execution_count": 159,
   "metadata": {},
   "outputs": [],
   "source": [
    "protocol = 'http'\n",
    "server = '10.249.21.252'\n",
    "port = '9999'\n",
    "\n",
    "params = {'uid': 100}\n",
    "\n",
    "# Check that the container is available\n",
    "score_request = requests.get(protocol + \"://\" + server + \":\" + port + \"/predict\", params=params)"
   ]
  },
  {
   "cell_type": "code",
   "execution_count": 160,
   "metadata": {},
   "outputs": [
    {
     "name": "stdout",
     "output_type": "stream",
     "text": [
      "{\n",
      "  \"response\": {\n",
      "    \"Product_Rank\": {\n",
      "      \"0\": \" Product1\", \n",
      "      \"1\": \" Product2\", \n",
      "      \"2\": \" Product3\", \n",
      "      \"3\": \" Product4\", \n",
      "      \"4\": \" Product5\", \n",
      "      \"5\": \" Product6\", \n",
      "      \"6\": \" Product7\", \n",
      "      \"7\": \" Product8\", \n",
      "      \"8\": \" Product9\"\n",
      "    }, \n",
      "    \"Product_id\": {\n",
      "      \"0\": \"6\", \n",
      "      \"1\": \"118\", \n",
      "      \"2\": \"67\", \n",
      "      \"3\": \"27\", \n",
      "      \"4\": \"0\", \n",
      "      \"5\": \"51\", \n",
      "      \"6\": \"282\", \n",
      "      \"7\": \"62\", \n",
      "      \"8\": \"24\"\n",
      "    }\n",
      "  }, \n",
      "  \"success\": true\n",
      "}\n",
      "\n"
     ]
    }
   ],
   "source": [
    "print(score_request.text)"
   ]
  },
  {
   "cell_type": "markdown",
   "metadata": {},
   "source": [
    "#### Kill the application"
   ]
  },
  {
   "cell_type": "code",
   "execution_count": 161,
   "metadata": {},
   "outputs": [],
   "source": [
    "# stop and remove the container\n",
    "app_container.stop()\n",
    "app_container.remove()"
   ]
  }
 ],
 "metadata": {
  "kernelspec": {
   "display_name": "Python 3",
   "language": "python",
   "name": "python3"
  },
  "language_info": {
   "codemirror_mode": {
    "name": "ipython",
    "version": 3
   },
   "file_extension": ".py",
   "mimetype": "text/x-python",
   "name": "python",
   "nbconvert_exporter": "python",
   "pygments_lexer": "ipython3",
   "version": "3.7.6"
  },
  "toc-autonumbering": true,
  "toc-showtags": false
 },
 "nbformat": 4,
 "nbformat_minor": 4
}
